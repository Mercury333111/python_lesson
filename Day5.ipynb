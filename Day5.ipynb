{
 "cells": [
  {
   "cell_type": "raw",
   "id": "af44e4eb-8be9-470e-89de-9345d1993dfa",
   "metadata": {},
   "source": [
    "Python Dictionary - 字典\n",
    "    字典的创建\n",
    "    字典的操作：增，删，改，访问\n",
    "    判断字典中是否存在某个词条\n",
    "    字典的遍历\n",
    "    嵌套字典\n",
    "    字典和数组任意嵌套\n",
    "    字典的合并 - a.update(b)\n",
    "        数组的合并 - a.extend(b)\n",
    "字符串的进阶操作\n",
    "    字符的转义\n",
    "    format 方法 \"{}\".format(x)\n",
    "    格式字符串 f\"{x}\"\n",
    "    chr 和 ord\n",
    "    字符串比较大小\n",
    "HTML 中的转义\n",
    "    &name;\n",
    "    &#hex;\n",
    "    Python 中的进制转换\n",
    "        内置进制转换函数 十进制转其它进制 - hex bin oct\n",
    "        内置进制转换函数 其它进制转十进制 - int(\"0xff\", 16)\n",
    "        十进制转非常用进制 - 自己写函数\n",
    "    URL 中的转义方式\n",
    "    quote, unquote\n",
    "实操"
   ]
  },
  {
   "cell_type": "markdown",
   "id": "ed43977a-5baf-457a-b81c-668e02b48517",
   "metadata": {},
   "source": [
    "### Python Dictionary - 字典\n",
    "\n",
    "一种可变的数据结构，用于存储键（Key）和对应的值（Value）。字典是一种无序的集合，其中每个元素都由一个唯一的键来标识。\n",
    "\n",
    "字典的特点包括：\n",
    "\n",
    "- 键-值对：字典中的每个元素都由一个键和对应的值组成。键是唯一的，用于标识和访问值。\n",
    "- 无序性：字典中的元素没有固定的顺序。你无法通过索引访问字典中的元素，而是通过键来获取对应的值。\n",
    "- 可变性：字典是可变的，可以添加、修改和删除键值对。\n",
    "\n",
    "#### 字典的创建\n",
    "\n",
    "字典的创建使用花括号 `{}`。"
   ]
  },
  {
   "cell_type": "code",
   "execution_count": null,
   "id": "cc5d2a17-c550-493b-ab95-ae084de016ca",
   "metadata": {},
   "outputs": [],
   "source": []
  },
  {
   "cell_type": "markdown",
   "id": "9e281261-8c07-4773-91a4-e735f2b55782",
   "metadata": {},
   "source": [
    "#### 字典的操作：增，删，改，访问\n",
    "\n",
    "增 和 改：\n",
    "\n",
    "`empty_dict[\"new_key\"] = 1`\n",
    "\n",
    "删：\n",
    "\n",
    "`del my_dict[\"key\"]`；\n",
    "\n",
    "`my_dict.pop(\"key\")` 方法\n",
    "\n",
    "访问：\n",
    "\n",
    "`print(my_dict[\"some_key\"])`"
   ]
  },
  {
   "cell_type": "code",
   "execution_count": null,
   "id": "10be8cf0-1be9-4b6f-9166-74f5e346053d",
   "metadata": {},
   "outputs": [],
   "source": []
  },
  {
   "cell_type": "markdown",
   "id": "07e76ef8-953a-4def-b50d-ef4847253b24",
   "metadata": {},
   "source": [
    "#### 判断字典中是否存在某个词条\n",
    "\n",
    "1. `\"some_key\" in my_dict`   --> `str in dict`\n",
    "2. `dictionary.get(\"some_key\") is not None`\n",
    "3. `\"some_key\" in my_dict.keys()`  --> `str in list`"
   ]
  },
  {
   "cell_type": "code",
   "execution_count": null,
   "id": "f3ad562d-b538-4143-b01c-ed33258de134",
   "metadata": {},
   "outputs": [],
   "source": []
  },
  {
   "cell_type": "markdown",
   "id": "25b147c7-073b-4bb6-8512-8381c4c654a9",
   "metadata": {},
   "source": [
    "#### 字典的遍历\n",
    "\n",
    "1. `for key in my_dict`\n",
    "2. `for key, value in my_dict.items()`\n",
    "3. `for key in my_dict.keys()`\n",
    "4. `for value in my_dict.values()`"
   ]
  },
  {
   "cell_type": "code",
   "execution_count": null,
   "id": "c7f2007f-e86c-4046-a608-ee08c9e04043",
   "metadata": {},
   "outputs": [],
   "source": []
  },
  {
   "cell_type": "markdown",
   "id": "b95b3cd3-97a5-4dde-b478-957125c79af2",
   "metadata": {},
   "source": [
    "#### 嵌套字典"
   ]
  },
  {
   "cell_type": "code",
   "execution_count": null,
   "id": "d9981e9c-3bc1-4a97-98d2-6b20e7eae6ae",
   "metadata": {},
   "outputs": [],
   "source": []
  },
  {
   "cell_type": "markdown",
   "id": "9a6534b4-aa02-4bad-b63e-db680fad8f48",
   "metadata": {},
   "source": [
    "#### 字典的合并 - a.update(b)\n",
    "        \n",
    "> 数组的合并 - a.extend(b)"
   ]
  },
  {
   "cell_type": "code",
   "execution_count": null,
   "id": "dbd2f9d8-8b35-4e16-9252-2cc7c8e08275",
   "metadata": {},
   "outputs": [],
   "source": []
  },
  {
   "cell_type": "markdown",
   "id": "45df8a12-4f18-49c0-b27e-3ffe91bdd541",
   "metadata": {},
   "source": [
    "### 字符串的进阶操作\n",
    "\n",
    "#### 字符的转义\n",
    "\n",
    "转义字符是一种特殊的字符序列，用于表示一些特殊字符或具有特殊含义的字符。\n",
    "\n",
    "1. 转义引号：\n",
    "\n",
    "```python\n",
    "string1 = \"He said, \\\"Hello!\\\"\"\n",
    "print(string1)  # 输出：He said, \"Hello!\"\n",
    "```\n",
    "\n",
    "2. 转义换行符：\n",
    "\n",
    "```python\n",
    "string2 = \"Line 1\\nLine 2\"\n",
    "print(string2)\n",
    "```\n",
    "\n",
    "3. 转义制表符：\n",
    "\n",
    "```python\n",
    "string3 = \"Column 1\\tColumn 2\"\n",
    "print(string3)  # 输出：Column 1    Column 2\n",
    "```\n",
    "\n",
    "4. 转义反斜杠自身：\n",
    "\n",
    "```python\n",
    "string4 = \"This is a backslash: \\\\\"\n",
    "print(string4)  # 输出：This is a backslash: \\\n",
    "```\n",
    "\n",
    "这些转义序列允许用户在字符串中插入特殊字符，而不会引发语法错误或产生不正确的结果。"
   ]
  },
  {
   "cell_type": "code",
   "execution_count": null,
   "id": "9af6a6ab-f9a2-462c-b1c9-a58923caa0c4",
   "metadata": {},
   "outputs": [],
   "source": []
  },
  {
   "cell_type": "markdown",
   "id": "6d048e19-b696-44c0-afe6-dcec2d7303d9",
   "metadata": {},
   "source": [
    "#### format 方法 `\"{}\".format(x)`"
   ]
  },
  {
   "cell_type": "code",
   "execution_count": null,
   "id": "e6d59a72-78df-4970-a03f-809fb3971840",
   "metadata": {},
   "outputs": [],
   "source": []
  },
  {
   "cell_type": "markdown",
   "id": "9c6c89a3-9d90-4720-b624-7bf10dbbdb85",
   "metadata": {},
   "source": [
    "#### 格式字符串 `f\"{x}\"`"
   ]
  },
  {
   "cell_type": "code",
   "execution_count": null,
   "id": "266696b3-f624-498f-ae60-009b1e1acd4e",
   "metadata": {},
   "outputs": [],
   "source": []
  },
  {
   "cell_type": "markdown",
   "id": "000b2718-9b47-4061-9531-5e4787bd4f26",
   "metadata": {},
   "source": [
    "#### `chr` 和 `ord`"
   ]
  },
  {
   "cell_type": "code",
   "execution_count": null,
   "id": "4c47fecb-0bbe-48c3-ba18-78dbcf18cea9",
   "metadata": {},
   "outputs": [],
   "source": []
  },
  {
   "cell_type": "markdown",
   "id": "3aa532df-ebe7-456b-a870-87ac35ae2568",
   "metadata": {},
   "source": [
    "#### 字符串比较大小"
   ]
  },
  {
   "cell_type": "code",
   "execution_count": null,
   "id": "855f256c-5500-4de1-b37d-065841f41184",
   "metadata": {},
   "outputs": [],
   "source": []
  },
  {
   "cell_type": "markdown",
   "id": "d01d99c5-21b7-4a4d-a438-35f731630525",
   "metadata": {},
   "source": [
    "### HTML 中的转义\n",
    "\n",
    "语法：`&name;` 或者 `&#hex;`\n",
    "\n",
    "在 HTML 中，有一些特殊字符需要进行转义，以确保它们能够正确显示而不干扰 HTML 结构。\n",
    "\n",
    "```html\n",
    "&amp;    表示字符 &（和号）\n",
    "&lt;     表示字符 <（小于号）\n",
    "&gt;     表示字符 >（大于号）\n",
    "&quot;   表示字符 \"（双引号）\n",
    "&apos;   表示字符 '（单引号）\n",
    "```\n",
    "\n",
    "也可以使用 16 进制的字符编码：\n",
    "\n",
    "```html\n",
    "&#x20;   表示字符 空格\n",
    "&#xA;    表示字符 换行\n",
    "&#x27;   表示字符 '（单引号）\n",
    "&#x3C;   表示字符 <（小于号）\n",
    "&#x3E;   表示字符 >（大于号）\n",
    "```\n",
    "\n",
    "### Python 中的进制转换\n",
    "\n",
    "#### 内置进制转换函数 十进制转其它进制 - hex bin oct"
   ]
  },
  {
   "cell_type": "code",
   "execution_count": null,
   "id": "639e3479-70ec-4445-95c0-80d238e3de24",
   "metadata": {},
   "outputs": [],
   "source": []
  },
  {
   "cell_type": "markdown",
   "id": "ee48777a-811a-4148-a0e3-6efb6ae24301",
   "metadata": {},
   "source": [
    "#### 内置进制转换函数 其它进制转十进制 - int(\"0xff\", 16)"
   ]
  },
  {
   "cell_type": "code",
   "execution_count": null,
   "id": "7d95f30f-bc91-4341-ab3f-86fb6820cef3",
   "metadata": {},
   "outputs": [],
   "source": []
  },
  {
   "cell_type": "markdown",
   "id": "a87062e4-c51b-4acf-a522-69c38bc0b17b",
   "metadata": {},
   "source": [
    "#### 十进制转非常用进制 - 自己写函数"
   ]
  },
  {
   "cell_type": "code",
   "execution_count": null,
   "id": "49c464ae-7ad1-44d8-90d1-f197c8977f3a",
   "metadata": {},
   "outputs": [],
   "source": []
  },
  {
   "cell_type": "markdown",
   "id": "4b847b3e-20a5-4ed7-bc88-33dbbb6784d8",
   "metadata": {},
   "source": [
    "#### URL 中的转义方式\n",
    "\n",
    "对于 URL 转义，常用的方式是使用百分号（%）进行编码。在 URL 中，某些字符具有特殊含义或保留用途，因此需要进行转义以确保它们在 URL 中能够正确表示。\n",
    "\n",
    "使用百分号编码保留字符：\n",
    "\n",
    "- 空格：编码为 %20 或 +\n",
    "- `#`：编码为 %23\n",
    "- `?`：编码为 %3F\n",
    "- `=`：编码为 %3D\n",
    "- `/`：编码为 %2F\n",
    "\n",
    "规律为，百分号加两位十六进制数编码任意 ASCII 字符。\n",
    "\n",
    "字母、数字和部分符号通常不需要转义。\n",
    "\n",
    "对于非 ASCII 字符，在 URL 中传输时，需要进行编码以确保其在网络传输过程中的正确性和可靠性。\n",
    "\n",
    "一般步骤：\n",
    "\n",
    "1. 将非 ASCII 字符转换为其对应的 UTF-8 字节序列。\n",
    "2. 将每个字节转换为两位十六进制数。\n",
    "3. 在每个字节的十六进制数前加上百分号（%）作为前缀。\n",
    "\n",
    "例如，假设要编码的字符是 \"é\"，其对应的 UTF-8 字节序列为 \\xc3\\xa9。然后，将每个字节转换为两位十六进制数，即 c3 和 a9。最后，在每个十六进制数前加上百分号，编码后的结果是 %C3%A9。"
   ]
  },
  {
   "cell_type": "markdown",
   "id": "42cb8b1c-9eb9-45dc-9cbb-2f1e9ca6c697",
   "metadata": {},
   "source": [
    "#### Python：quote, unquote\n",
    "\n",
    "在 Python 中，可以使用 `urllib.parse` 模块中的 quote() 函数进行 URL 编码。\n",
    "\n",
    "```python\n",
    "from urllib.parse import quote\n",
    "\n",
    "string = \"é\"\n",
    "encoded_string = quote(string)\n",
    "print(encoded_string)  # 输出：%C3%A9\n",
    "```\n",
    "\n",
    "可以使用 `urllib.parse` 模块中的 unquote() 函数对已编码的 URL 进行解码。\n",
    "\n",
    "```python\n",
    "from urllib.parse import unquote\n",
    "\n",
    "encoded_string = \"%C3%A9\"\n",
    "decoded_string = unquote(encoded_string)\n",
    "print(decoded_string)  # 输出：é\n",
    "```"
   ]
  },
  {
   "cell_type": "code",
   "execution_count": null,
   "id": "877946b3-a526-4ace-856d-cba401f33ce3",
   "metadata": {},
   "outputs": [],
   "source": []
  },
  {
   "cell_type": "markdown",
   "id": "ad6fe17c-dab0-40a4-b953-7343ab6feeaa",
   "metadata": {},
   "source": [
    "### 实操"
   ]
  },
  {
   "cell_type": "code",
   "execution_count": 9,
   "id": "193007a9-ca15-4069-b6de-3add0d4a1a73",
   "metadata": {},
   "outputs": [
    {
     "name": "stdout",
     "output_type": "stream",
     "text": [
      "\n",
      "\n",
      "<!DOCTYPE html>\n",
      "<html lang=\"zh-cn\">\n",
      "<head>\n",
      "\n",
      "<!-- Global site tag (gtag.js) - Google Analytics -->\n",
      "<script async src=\"https://www.googletagmanager.com/gtag/js?id=UA-878633-1\"></script>\n",
      "<script>\n",
      "  window.dataLayer = window.dataLayer || [];\n",
      "  function gtag(){dataLayer.push(arguments);}\n",
      "  gtag('js', new Date());\n",
      "\n",
      "  gtag('config', 'UA-878633-1');\n",
      "</script>\n",
      "\n",
      "<meta charset=\"utf-8\">\n",
      "<meta name=\"robots\" content=\"all\" />\n",
      "<meta name=\"author\" content=\"w3school.com.cn\" />\n",
      "\n",
      "<link rel=\"stylesheet\" type=\"text/css\" href=\"/c8.css\" />\n",
      "\n",
      "<link rel=\"icon\" type=\"image/png\" sizes=\"16x16\" href=\"/ui2019/logo-16-red.png\">\n",
      "<link rel=\"icon\" type=\"image/png\" sizes=\"32x32\" href=\"/ui2019/logo-32-red.png\">\n",
      "<link rel=\"icon\" type=\"image/png\" sizes=\"48x48\" href=\"/ui2019/logo-48-red.png\">\n",
      "<link rel=\"icon\" type=\"image/png\" sizes=\"96x96\" href=\"/ui2019/logo-96-red.png\">\n",
      "<link rel=\"apple-touch-icon-precomposed\" sizes=\"180x180\" href=\"/ui2019/logo-180.png\">\n",
      "\n",
      "\n",
      "<title>HTML 标签参考手册</title>\n",
      "\n",
      "</head>\n",
      "\n",
      "<body class=\"html\">\n",
      "\n",
      "<div id=\"wrapper\">\n",
      "\n",
      "<div id=\"header\">\n",
      "<a id=\"logo\" href=\"/index.html\" title=\"w3school 在线教程\" style=\"float:left;\">w3school 在线教程</a>\n",
      "<div id=\"header_gg\">\n",
      "<script async src=\"https://pagead2.googlesyndication.com/pagead/js/adsbygoogle.js\"></script>\n",
      "<!-- W3 页眉 -->\n",
      "<ins class=\"adsbygoogle\"\n",
      "     style=\"display:inline-block;width:728px;height:90px\"\n",
      "     data-ad-client=\"ca-pub-3381531532877742\"\n",
      "     data-ad-slot=\"7423315034\"></ins>\n",
      "<script>\n",
      "     (adsbygoogle = window.adsbygoogle || []).push({});\n",
      "</script>\n",
      "</div>\n",
      "</div>\n",
      "\n",
      "<div id=\"navfirst\">\n",
      "<ul id=\"menu\">\n",
      "<li id=\"h\"><a href=\"/h.asp\" title=\"HTML 系列教程\">HTML 系列教程</a></li>\n",
      "<li id=\"b\"><a href=\"/b.asp\" title=\"浏览器脚本教程\">浏览器脚本</a></li>\n",
      "<li id=\"s\"><a href=\"/s.asp\" title=\"服务器脚本教程\">服务器脚本</a></li>\n",
      "<li id=\"p\"><a href=\"/p.asp\" title=\"编程教程\">编程教程</a></li>\n",
      "<li id=\"x\"><a href=\"/x.asp\" title=\"XML 系列教程\">XML 系列教程</a></li>\n",
      "<li id=\"w\"><a href=\"/w.asp\" title=\"建站手册\">建站手册</a></li>\n",
      "<li id=\"r\"><a href=\"/r.asp\" title=\"参考手册\">参考手册</a></li>\n",
      "</ul>\n",
      "</div>\n",
      "\n",
      "<div id=\"navsecond\">\n",
      "\n",
      "<div id=\"course\"><h2>参考手册</h2>\n",
      "<ul>\n",
      "<li class=\"currentLink\"><a href=\"/tags/index.asp\" title=\"HTML 元素参考手册\">HTML 元素（字母排序）</a></li>\n",
      "<li><a href=\"/tags/html_ref_byfunc.asp\" title=\"HTML 元素参考手册 - 功能排序\">HTML 元素（功能排序）</a></li>\n",
      "<li><a href=\"/tags/html_ref_html_browsersupport.asp\" title=\"HTML 参考手册 - 浏览器支持\">HTML 浏览器支持</a></li>\n",
      "<li><a href=\"/tags/html_ref_standardattributes.asp\" title=\"HTML 全局属性\">HTML 全局属性</a></li>\n",
      "<li><a href=\"/tags/html_ref_eventattributes.asp\" title=\"HTML 事件参考手册\">HTML 事件</a></li>\n",
      "<li><a href=\"/tags/html_ref_colornames.asp\" title=\"HTML 颜色名\">HTML 颜色名</a></li>\n",
      "<li><a href=\"/tags/html_ref_canvas.asp\" title=\"HTML Canvas 参考手册\">HTML 画布</a></li>\n",
      "<li><a href=\"/tags/html_ref_audio_video_dom.asp\" title=\"HTML 音频/视频参考手册\">HTML 视频/音频</a></li>\n",
      "<li><a href=\"/tags/html_ref_charactersets.asp\" title=\"HTML 字符集\">HTML 字符集</a></li>\n",
      "<li><a href=\"/tags/html_ref_dtd.asp\" title=\"HTML &lt;!DOCTYPE&gt;\">HTML 文档类型</a></li>\n",
      "<li><a href=\"/tags/html_ref_url\n"
     ]
    }
   ],
   "source": [
    "import requests\n",
    "\n",
    "resp = requests.get(\"https://www.w3school.com.cn/tags/index.asp\")\n",
    "print(resp.text[0:3000])\n",
    "\n",
    "# 目标：提取出所有的 HTML 标签和描述，放入一个 Python dictionary 数据结构。"
   ]
  },
  {
   "cell_type": "code",
   "execution_count": null,
   "id": "82e2cc62-9fe3-42e0-bc5c-927d5c3d64e6",
   "metadata": {},
   "outputs": [],
   "source": []
  }
 ],
 "metadata": {
  "kernelspec": {
   "display_name": "Python 3 (ipykernel)",
   "language": "python",
   "name": "python3"
  },
  "language_info": {
   "codemirror_mode": {
    "name": "ipython",
    "version": 3
   },
   "file_extension": ".py",
   "mimetype": "text/x-python",
   "name": "python",
   "nbconvert_exporter": "python",
   "pygments_lexer": "ipython3",
   "version": "3.10.10"
  }
 },
 "nbformat": 4,
 "nbformat_minor": 5
}
