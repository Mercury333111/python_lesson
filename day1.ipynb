{
 "cells": [
  {
   "cell_type": "markdown",
   "metadata": {},
   "source": [
    "# Day1\n",
    "<img src=\"./mindmap.jpeg\">\n",
    "\n"
   ]
  },
  {
   "cell_type": "markdown",
   "metadata": {},
   "source": [
    "## python基础知识\n",
    "### python语法\n"
   ]
  },
  {
   "cell_type": "code",
   "execution_count": 7,
   "metadata": {},
   "outputs": [
    {
     "name": "stdout",
     "output_type": "stream",
     "text": [
      "#\n",
      "None\n"
     ]
    }
   ],
   "source": [
    "# 输出\n",
    "\n",
    "print(print('#'))"
   ]
  },
  {
   "cell_type": "markdown",
   "metadata": {},
   "source": [
    "数据类型\n",
    "1. 整数\n",
    "    Python可以处理**任意大小的整数**，当然包括负整数，在程序中的表示方法和数学上的写法一模一样，例如：1，100，-8080，0，等等。\n",
    "2. 小数\n",
    "    1.23，3.14，-9.01\n",
    "3. 字符串\n",
    "   **字符串是以单引号'或双引号\"括起来的任意文本**，比如'abc'，\"xyz\"等等。\n",
    "   请注意，''或\"\"本身只是一种表示方式，不是字符串的一部分，因此，字符串'abc'只有a，b，c这3个字符。\n",
    "   如果'本身也是一个字符，那就可以用\"\"括起来，比如\"I'm OK\"包含的字符是I，'，m，空格，O，K这6个字符。\n",
    "4. 布尔值\n",
    "    表示逻辑的true或者false，在python中有True和False来表示\n",
    "5. 空值\n",
    "    空值是Python里一个特殊的值，用None表示。None不能理解为0，因为0是有意义的，而None是一个特殊的空值。\n",
    "6. 变量\n",
    "    变量的概念基本上和初中代数的方程变量是一致的，只是在计算机程序中，变量不仅可以是数字，还可以是任意数据类型。\n",
    "\n",
    "    变量在程序中就是用一个变量名表示了，变量名可以是**大小写英文、数字和_**的组合，且**不能用数字开头**\n"
   ]
  },
  {
   "cell_type": "code",
   "execution_count": 8,
   "metadata": {},
   "outputs": [
    {
     "name": "stdout",
     "output_type": "stream",
     "text": [
      "T007\n"
     ]
    }
   ],
   "source": [
    "a = 1\n",
    "# 变量a是一个整数。\n",
    "t_007 = 'T007'\n",
    "# 变量t_007是一个字符串。\n",
    "Answer = True\n",
    "# 变量Answer是一个布尔值True。\n",
    "print(t_007)"
   ]
  },
  {
   "cell_type": "markdown",
   "metadata": {},
   "source": [
    "在Python中，等号=是赋值语句，可以把任意数据类型赋值给变量，同一个变量可以反复赋值，而且可以是不同类型的变量"
   ]
  },
  {
   "cell_type": "code",
   "execution_count": 2,
   "metadata": {},
   "outputs": [
    {
     "name": "stdout",
     "output_type": "stream",
     "text": [
      "123\n",
      "ABC\n"
     ]
    }
   ],
   "source": [
    "a = 123 # a是整数\n",
    "print(a)\n",
    "a = 'ABC' # a变为字符串\n",
    "print(a)\n"
   ]
  },
  {
   "cell_type": "markdown",
   "metadata": {},
   "source": [
    "请不要把赋值语句的等号等同于数学的等号。比如下面的代码："
   ]
  },
  {
   "cell_type": "code",
   "execution_count": 20,
   "metadata": {},
   "outputs": [
    {
     "name": "stdout",
     "output_type": "stream",
     "text": [
      "C:\\Users\\Macro\\Desktop\\Python讲义\\Day1\n"
     ]
    }
   ],
   "source": [
    "!cd"
   ]
  },
  {
   "cell_type": "markdown",
   "metadata": {},
   "source": [
    "\n",
    "如果从数学上理解x = x + 2那无论如何是不成立的，在程序中，赋值语句先计算右侧的表达式x + 2，得到结果12，再赋给变量x。由于x之前的值是10，重新赋值后，x的值变成12。"
   ]
  },
  {
   "cell_type": "markdown",
   "metadata": {},
   "source": [
    "list\n",
    "Python内置的一种数据类型是列表：list。list是一种有序的集合，可以随时添加和删除其中的元素。"
   ]
  },
  {
   "cell_type": "code",
   "execution_count": 9,
   "metadata": {},
   "outputs": [
    {
     "name": "stdout",
     "output_type": "stream",
     "text": [
      "3\n",
      "Michael\n",
      "Bob\n",
      "Tracy\n"
     ]
    },
    {
     "ename": "IndexError",
     "evalue": "list index out of range",
     "output_type": "error",
     "traceback": [
      "\u001b[1;31m---------------------------------------------------------------------------\u001b[0m",
      "\u001b[1;31mIndexError\u001b[0m                                Traceback (most recent call last)",
      "Cell \u001b[1;32mIn[9], line 11\u001b[0m\n\u001b[0;32m      8\u001b[0m \u001b[38;5;28mprint\u001b[39m(classmates[\u001b[38;5;241m1\u001b[39m])\n\u001b[0;32m      9\u001b[0m \u001b[38;5;28mprint\u001b[39m(classmates[\u001b[38;5;241m2\u001b[39m])\n\u001b[1;32m---> 11\u001b[0m \u001b[38;5;28mprint\u001b[39m(\u001b[43mclassmates\u001b[49m\u001b[43m[\u001b[49m\u001b[38;5;241;43m3\u001b[39;49m\u001b[43m]\u001b[49m)\n",
      "\u001b[1;31mIndexError\u001b[0m: list index out of range"
     ]
    }
   ],
   "source": [
    "# 比如，列出班里所有同学的名字，就可以用一个list表示：\n",
    "classmates = ['Michael', 'Bob', 'Tracy']\n",
    "# 获取list元素的个数\n",
    "print(len(classmates))\n",
    "\n",
    "# 用索引来访问list中每一个位置的元素，记得索引是从0开始的：\n",
    "print(classmates[0])\n",
    "print(classmates[1])\n",
    "print(classmates[2])\n",
    "\n",
    "print(classmates[3])"
   ]
  },
  {
   "cell_type": "markdown",
   "metadata": {},
   "source": [
    "当索引超出了范围时，Python会报一个**IndexError: list index out of range**错误，所以，要确保索引**不要越界**，记得最后一个元素的索引是len(classmates) - 1。"
   ]
  },
  {
   "cell_type": "code",
   "execution_count": 2,
   "metadata": {},
   "outputs": [
    {
     "name": "stdout",
     "output_type": "stream",
     "text": [
      "['Michael', 'Jack', 'Bob', 'Tracy', 'Adam']\n"
     ]
    }
   ],
   "source": [
    "# list是一个可变的有序表，所以，可以往list中追加元素到末尾：\n",
    "classmates.append('Adam')\n",
    "# 把元素插入到指定的位置\n",
    "classmates.insert(1, 'Jack')\n",
    "print(classmates)\n",
    "# 删除指定位置的元素，用pop(i)方法，其中i是索引位置\n",
    "classmates.pop(1)\n",
    "# 替换\n",
    "classmates[1] = 'Sarah'"
   ]
  },
  {
   "cell_type": "code",
   "execution_count": 3,
   "metadata": {},
   "outputs": [
    {
     "name": "stdout",
     "output_type": "stream",
     "text": [
      "Michael\n",
      "Bob\n",
      "Tracy\n"
     ]
    }
   ],
   "source": [
    "# 循环\n",
    "names = ['Michael', 'Bob', 'Tracy']\n",
    "for name in names:\n",
    "    print(name)"
   ]
  },
  {
   "cell_type": "code",
   "execution_count": 1,
   "metadata": {},
   "outputs": [
    {
     "name": "stdout",
     "output_type": "stream",
     "text": [
      "0\n",
      "1\n",
      "2\n",
      "3\n",
      "4\n"
     ]
    }
   ],
   "source": [
    "for i in range(5):\n",
    "    print(i)"
   ]
  },
  {
   "cell_type": "markdown",
   "metadata": {},
   "source": [
    "## 库和PIP介绍"
   ]
  },
  {
   "cell_type": "markdown",
   "metadata": {},
   "source": [
    "#### 库\n",
    "Python为我们提供了非常完善的基础代码库，覆盖了网络、文件、GUI、数据库、文本等大量内容，被形象地称作“内置电池（batteries included）”。用Python开发，许多功能**不必从零编写，直接使用现成**的即可。\n",
    "\n",
    "除了内置的库外，Python还有大量的**第三方库**，也就是别人开发的，**供你直接使用的东西**。当然，如果你开发的代码通过很好的封装，也可以作为第三方库给别人使用。"
   ]
  },
  {
   "cell_type": "markdown",
   "metadata": {},
   "source": [
    "#### pip\n",
    "在Python中，pip是一个常用的包管理工具，提供了一系列命令来安装、升级和管理Python包。以下是一些常用的pip命令：\n",
    "\n",
    "安装python的包：使用pip install package_name命令可以从Python Package Index（PyPI）上安装指定的包。例如，要安装名为requests的包，可以运行pip install requests。\n",
    "这个包会装在python的目录下。"
   ]
  },
  {
   "cell_type": "markdown",
   "metadata": {},
   "source": [
    "## 办公自动化\n",
    "### 使用场景\n",
    "1. 自动化数据处理：Python提供了强大的库（如pandas、openpyxl等），可以轻松地读取、写入和操作Excel文件。通过编写Python脚本，可以自动化进行数据导入、清洗、转换和分析，节省大量手动处理数据的时间和精力。\n",
    "2. 处理数据时，经常有重复性的工作，如果使用python，只需要写一个脚本，就可以在有类似工作时使用，节约时间，提高效率.\n",
    "   比如我们需要给excel插入图片，如果一张张插入，需要不断复制粘贴，而python只要写几行代码即可。\n",
    "\n",
    "3. 大规模数据处理：Excel在处理大规模数据时可能会遇到性能问题，而Python可以处理更大规模的数据集。比\n",
    "   <img src =\"Snipaste_2023-07-28_18-01-43.png\">\n",
    "   但是python可以轻松处理\n",
    "4. 自定义功能和扩展性：Python提供了丰富的库和工具，可以根据具体需求自定义功能和扩展性"
   ]
  },
  {
   "cell_type": "markdown",
   "metadata": {},
   "source": [
    "\n",
    "### os库和openpyxl介绍\n",
    "#### openpyxl\n",
    "openpyxl是用于读取/写入Excel 2010 **xlsx/xlsm**文件的Python库\n",
    "下面是openpyxl库的一些主要特点和功能：\n",
    "https://pypi.org/project/openpyxl/\n",
    "1. 读取和写入Excel文件\n",
    "\n",
    "2. 操作工作表和单元格\n",
    "\n",
    "3. 处理公式和函数\n",
    "\n",
    "4. 图表和图形\n",
    "\n",
    "5. 数据筛选和排序\n",
    "\n",
    "6. 样式和格式\n",
    "\n",
    "7. 图像和注释\n",
    "\n",
    "\n"
   ]
  },
  {
   "cell_type": "markdown",
   "metadata": {},
   "source": [
    "#### os库\n",
    "os库是Python的标准库，提供通用的Python程序和操作系统交互的功能函数。os库包含几百个Python函数，包括常用的路径操作。\n",
    "excel表格其实是一个文件，每个文件有自己的目录。"
   ]
  },
  {
   "cell_type": "markdown",
   "metadata": {},
   "source": [
    "<img src = \"./path.png\">"
   ]
  },
  {
   "cell_type": "markdown",
   "metadata": {},
   "source": [
    "<img src =\"./path1.png\">"
   ]
  },
  {
   "cell_type": "markdown",
   "metadata": {},
   "source": [
    "文件 办公自动化day 1.xmind 的位置为D:\\download。\n",
    "1. 绝对路径\n",
    "    绝对路径是指从文件系统的**根目录**开始，一直到目标文件或目录的完整路径。它包含了所有必要的信息，可以唯一地确定一个文件或目录的位置。在Windows系统中，一个文件的绝对路径可能类似于D:\\download\\办公自动化day 1.xmind\n",
    "2. 相对路径\n",
    "    + 相对路径是**相对于当前工作目录或其他已知位置的路径**。它不包含完整的路径信息，而是基于某个参考点进行描述。\n",
    "    + 假设当前工作目录是D:\\username\\project\\，如果要引用该目录下的data.xlsx文件，可以使用相对路径./data.xlsx。\n",
    "    + 如果要引用上级目录中的data.xlsx文件，可以使用**相对路径../data.xlsx**，其中..表示上级目录。"
   ]
  },
  {
   "cell_type": "markdown",
   "metadata": {},
   "source": [
    "## os与openpyxl相关训练\n",
    "### 文件夹"
   ]
  },
  {
   "cell_type": "code",
   "execution_count": 4,
   "metadata": {},
   "outputs": [],
   "source": [
    "# 批量创建文件夹folder1, folder2, folder3\n",
    "import os\n",
    "\n",
    "folders = ['folder1', 'folder2', 'folder3']\n",
    "# 遍历文件夹列表\n",
    "for folder in folders:\n",
    "    # 使用os模块的mkdir函数创建文件夹\n",
    "    os.mkdir(folder)"
   ]
  },
  {
   "cell_type": "markdown",
   "metadata": {},
   "source": [
    "### Excel\n",
    "#### 工作簿\n",
    "工作簿：excel文件"
   ]
  },
  {
   "cell_type": "code",
   "execution_count": 36,
   "metadata": {},
   "outputs": [
    {
     "ename": "ModuleNotFoundError",
     "evalue": "No module named 'openpyxl'",
     "output_type": "error",
     "traceback": [
      "\u001b[0;31m---------------------------------------------------------------------------\u001b[0m",
      "\u001b[0;31mModuleNotFoundError\u001b[0m                       Traceback (most recent call last)",
      "Cell \u001b[0;32mIn[36], line 1\u001b[0m\n\u001b[0;32m----> 1\u001b[0m \u001b[38;5;28;01mimport\u001b[39;00m \u001b[38;5;21;01mopenpyxl\u001b[39;00m\n\u001b[1;32m      2\u001b[0m \u001b[38;5;28;01mimport\u001b[39;00m \u001b[38;5;21;01mos\u001b[39;00m\n\u001b[1;32m      4\u001b[0m \u001b[38;5;66;03m# 创建工作簿\u001b[39;00m\n",
      "\u001b[0;31mModuleNotFoundError\u001b[0m: No module named 'openpyxl'"
     ]
    }
   ],
   "source": [
    "import openpyxl\n",
    "import os\n",
    "\n",
    "# 创建工作簿\n",
    "\n",
    "workbook = openpyxl.Workbook()\n"
   ]
  },
  {
   "cell_type": "code",
   "execution_count": null,
   "metadata": {},
   "outputs": [],
   "source": [
    "# 保存工作簿\n",
    "workbook.save('filename.xlsx')"
   ]
  },
  {
   "cell_type": "code",
   "execution_count": null,
   "metadata": {},
   "outputs": [],
   "source": [
    "# 重命名工作簿\n",
    "os.rename('filename.xlsx', 'new_filename.xlsx')"
   ]
  },
  {
   "cell_type": "markdown",
   "metadata": {},
   "source": [
    "### 工作表\n",
    "<img src = \"./sheet.png\">"
   ]
  },
  {
   "cell_type": "markdown",
   "metadata": {},
   "source": [
    "#### 创建和获取工作表"
   ]
  },
  {
   "cell_type": "code",
   "execution_count": 2,
   "metadata": {},
   "outputs": [
    {
     "name": "stdout",
     "output_type": "stream",
     "text": [
      "<Worksheet \"test\">\n",
      "<Worksheet \"test1\">\n"
     ]
    }
   ],
   "source": [
    "#创建工作表和获取工作表 \n",
    "from openpyxl import Workbook\n",
    "wb = Workbook() # 创建工作簿\n",
    "ws = wb.create_sheet(\"sheet\")  #创建一个 sheet 名为 sheet\n",
    "ws.title = \"test\"  # 设置 sheet 标题\n",
    "ws1 = wb.create_sheet(\"sheet1\", 0) # 创建一个 sheet，插入到最前面 默认插在后面\n",
    "ws1.title = \"test1\"  # 设置 sheet 标题\n",
    "ws1.sheet_properties.tabColor = \"1072BA\"  # 设置 sheet 标签背景色\n",
    "ws1 = wb['test'] # 获取 sheet\n",
    "print(ws1)\n",
    "ws2 = wb.active  #获取当前工作表\n",
    "print(ws2)\n",
    "wb.save('test.xlsx') # 保存工作簿"
   ]
  },
  {
   "cell_type": "markdown",
   "metadata": {},
   "source": [
    "from xxx import xxx\n",
    "使用from xxx import xxx语句可以从一个模块中导入指定的函数、类或变量。这种导入方式可以让你直接使用被导入的函数、类或变量，而无需在代码中使用完整的模块名。"
   ]
  },
  {
   "cell_type": "markdown",
   "metadata": {},
   "source": [
    "#### 删除工作表"
   ]
  },
  {
   "cell_type": "code",
   "execution_count": 12,
   "metadata": {},
   "outputs": [
    {
     "name": "stdout",
     "output_type": "stream",
     "text": [
      "['Sheet', 'test1', 'test2', 'test3']\n"
     ]
    }
   ],
   "source": [
    "from openpyxl import Workbook\n",
    "wb = Workbook()\n",
    "ws = wb.create_sheet(\"test_1\")\n",
    "ws.title = \"test1\"\n",
    "ws1 = wb.create_sheet(\"test_2\")\n",
    "ws1.title = \"test2\"\n",
    "ws2 = wb.create_sheet(\"test_3\")\n",
    "ws2.title = \"test3\"\n",
    "sheets = wb.sheetnames\n",
    "print(sheets)\n",
    "wb.remove(wb[sheets[1]])  #删除工作表\n",
    "wb.remove(wb[\"test2\"]) #删除工作表\n",
    "del wb[\"test3\"] #删除工作表"
   ]
  },
  {
   "cell_type": "markdown",
   "metadata": {},
   "source": [
    "## 作业\n",
    "用python创建10个文件夹，文件夹名字为0-9，在文件夹中分别创建一个excel文件文件名依次为0-9（和文件夹名相同），在文件中创建10个工作表sheet1-sheet10。"
   ]
  },
  {
   "cell_type": "code",
   "execution_count": 10,
   "metadata": {},
   "outputs": [],
   "source": [
    "import os\n",
    "from openpyxl import Workbook\n",
    "for i in range(10):\n",
    "    os.mkdir(str(i))\n",
    "    wb = Workbook()\n",
    "    for j in range(10):\n",
    "        wb.create_sheet(str(j))\n",
    "    wb.save(str(i)+\"/\"+str(i)+\".xlsx\")\n",
    "\n"
   ]
  },
  {
   "cell_type": "code",
   "execution_count": null,
   "metadata": {},
   "outputs": [],
   "source": [
    "import os\n",
    "from openpyxl import Workbook\n",
    "os.mkdir(\"0\")\n",
    "wb =Workbook()\n",
    "wb.create_sheet('0')\n",
    "wb.create_sheet('1')\n",
    "wb.create_sheet('2')\n",
    "wb.create_sheet('3')\n",
    "wb.create_sheet('4')\n",
    "wb.create_sheet('5')\n",
    "wb.create_sheet('6')\n",
    "wb.create_sheet('7')\n",
    "wb.create_sheet('8')\n",
    "wb.create_sheet('9')\n",
    "wb.save(\"0/\"+\"0.xlsx\")\n",
    "\n",
    "os.mkdir(\"1\")\n",
    "wb =Workbook()\n",
    "wb.create_sheet('0')\n",
    "wb.create_sheet('1')\n",
    "wb.create_sheet('2')\n",
    "wb.create_sheet('3')\n",
    "wb.create_sheet('4')\n",
    "wb.create_sheet('5')\n",
    "wb.create_sheet('6')\n",
    "wb.create_sheet('7')\n",
    "wb.create_sheet('8')\n",
    "wb.create_sheet('9')\n",
    "wb.save(\"1/\"+\"1.xlsx\")\n",
    "\n",
    "os.mkdir(\"2\")\n",
    "wb =Workbook()\n",
    "wb.create_sheet('0')\n",
    "wb.create_sheet('1')\n",
    "wb.create_sheet('2')\n",
    "wb.create_sheet('3')\n",
    "wb.create_sheet('4')\n",
    "wb.create_sheet('5')\n",
    "wb.create_sheet('6')\n",
    "wb.create_sheet('7')\n",
    "wb.create_sheet('8')\n",
    "wb.create_sheet('9')\n",
    "wb.save(\"2/\"+\"2.xlsx\")\n",
    "\n",
    "os.mkdir(\"3\")\n",
    "wb =Workbook()\n",
    "wb.create_sheet('0')\n",
    "wb.create_sheet('1')\n",
    "wb.create_sheet('2')\n",
    "wb.create_sheet('3')\n",
    "wb.create_sheet('4')\n",
    "wb.create_sheet('5')\n",
    "wb.create_sheet('6')\n",
    "wb.create_sheet('7')\n",
    "wb.create_sheet('8')\n",
    "wb.create_sheet('9')\n",
    "wb.save(\"3/\"+\"3.xlsx\")\n",
    "\n",
    "os.mkdir(\"0\")\n",
    "wb =Workbook()\n",
    "wb.create_sheet('0')\n",
    "wb.create_sheet('1')\n",
    "wb.create_sheet('2')\n",
    "wb.create_sheet('3')\n",
    "wb.create_sheet('4')\n",
    "wb.create_sheet('5')\n",
    "wb.create_sheet('6')\n",
    "wb.create_sheet('7')\n",
    "wb.create_sheet('8')\n",
    "wb.create_sheet('9')\n",
    "wb.save(\"0/\"+\"0.xlsx\")\n",
    "\n",
    "os.mkdir(\"4\")\n",
    "wb =Workbook()\n",
    "wb.create_sheet('0')\n",
    "wb.create_sheet('1')\n",
    "wb.create_sheet('2')\n",
    "wb.create_sheet('3')\n",
    "wb.create_sheet('4')\n",
    "wb.create_sheet('5')\n",
    "wb.create_sheet('6')\n",
    "wb.create_sheet('7')\n",
    "wb.create_sheet('8')\n",
    "wb.create_sheet('9')\n",
    "wb.save(\"4/\"+\"4.xlsx\")\n",
    "\n",
    "os.mkdir(\"5\")\n",
    "wb =Workbook()\n",
    "wb.create_sheet('0')\n",
    "wb.create_sheet('1')\n",
    "wb.create_sheet('2')\n",
    "wb.create_sheet('3')\n",
    "wb.create_sheet('4')\n",
    "wb.create_sheet('5')\n",
    "wb.create_sheet('6')\n",
    "wb.create_sheet('7')\n",
    "wb.create_sheet('8')\n",
    "wb.create_sheet('9')\n",
    "wb.save(\"5/\"+\"5.xlsx\")\n",
    "\n",
    "os.mkdir(\"6\")\n",
    "wb =Workbook()\n",
    "wb.create_sheet('0')\n",
    "wb.create_sheet('1')\n",
    "wb.create_sheet('2')\n",
    "wb.create_sheet('3')\n",
    "wb.create_sheet('4')\n",
    "wb.create_sheet('5')\n",
    "wb.create_sheet('6')\n",
    "wb.create_sheet('7')\n",
    "wb.create_sheet('8')\n",
    "wb.create_sheet('9')\n",
    "wb.save(\"6/\"+\"6.xlsx\")\n",
    "\n",
    "os.mkdir(\"7\")\n",
    "wb =Workbook()\n",
    "wb.create_sheet('0')\n",
    "wb.create_sheet('1')\n",
    "wb.create_sheet('2')\n",
    "wb.create_sheet('3')\n",
    "wb.create_sheet('4')\n",
    "wb.create_sheet('5')\n",
    "wb.create_sheet('6')\n",
    "wb.create_sheet('7')\n",
    "wb.create_sheet('8')\n",
    "wb.create_sheet('9')\n",
    "wb.save(\"7/\"+\"7.xlsx\")\n",
    "\n",
    "os.mkdir(\"8\")\n",
    "wb =Workbook()\n",
    "wb.create_sheet('0')\n",
    "wb.create_sheet('1')\n",
    "wb.create_sheet('2')\n",
    "wb.create_sheet('3')\n",
    "wb.create_sheet('4')\n",
    "wb.create_sheet('5')\n",
    "wb.create_sheet('6')\n",
    "wb.create_sheet('7')\n",
    "wb.create_sheet('8')\n",
    "wb.create_sheet('9')\n",
    "wb.save(\"8/\"+\"8.xlsx\")\n",
    "\n",
    "os.mkdir(\"9\")\n",
    "wb =Workbook()\n",
    "wb.create_sheet('0')\n",
    "wb.create_sheet('1')\n",
    "wb.create_sheet('2')\n",
    "wb.create_sheet('3')\n",
    "wb.create_sheet('4')\n",
    "wb.create_sheet('5')\n",
    "wb.create_sheet('6')\n",
    "wb.create_sheet('7')\n",
    "wb.create_sheet('8')\n",
    "wb.create_sheet('9')\n",
    "wb.save(\"9/\"+\"9.xlsx\")\n",
    "\n",
    "\n"
   ]
  },
  {
   "cell_type": "markdown",
   "metadata": {},
   "source": []
  }
 ],
 "metadata": {
  "kernelspec": {
   "display_name": "Python 3 (ipykernel)",
   "language": "python",
   "name": "python3"
  },
  "language_info": {
   "codemirror_mode": {
    "name": "ipython",
    "version": 3
   },
   "file_extension": ".py",
   "mimetype": "text/x-python",
   "name": "python",
   "nbconvert_exporter": "python",
   "pygments_lexer": "ipython3",
   "version": "3.11.4"
  },
  "vscode": {
   "interpreter": {
    "hash": "7b74dce95157694c6712cfabdb235508a966402c4c89491dafd16804ce25fda9"
   }
  }
 },
 "nbformat": 4,
 "nbformat_minor": 4
}
