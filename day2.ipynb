{
 "cells": [
  {
   "cell_type": "markdown",
   "metadata": {},
   "source": [
    "# Day2\n",
    "<img src = \"mindmap2.jpeg\">"
   ]
  },
  {
   "cell_type": "markdown",
   "metadata": {},
   "source": [
    "#### Windows 用户查看当前所在目录："
   ]
  },
  {
   "cell_type": "code",
   "execution_count": 5,
   "metadata": {},
   "outputs": [
    {
     "name": "stdout",
     "output_type": "stream",
     "text": [
      "%cd%\n"
     ]
    }
   ],
   "source": [
    "!echo %cd%"
   ]
  },
  {
   "cell_type": "markdown",
   "metadata": {},
   "source": [
    "#### MacOS 用户查看当前所在目录："
   ]
  },
  {
   "cell_type": "code",
   "execution_count": 8,
   "metadata": {},
   "outputs": [
    {
     "name": "stdout",
     "output_type": "stream",
     "text": [
      "/Users\n"
     ]
    }
   ],
   "source": [
    "!pwd"
   ]
  },
  {
   "cell_type": "markdown",
   "metadata": {},
   "source": [
    "### 复习\n",
    "\n",
    "- print\n",
    "- 数据类型\n",
    "- 四则运算\n",
    "- list\n",
    "- for 循环\n",
    "\n",
    "### Python 基础（下）\n",
    "\n",
    "#### 条件判断"
   ]
  },
  {
   "cell_type": "code",
   "execution_count": 12,
   "metadata": {},
   "outputs": [
    {
     "name": "stdout",
     "output_type": "stream",
     "text": [
      "x is greater than 0\n",
      "x is greater than 2 but not greater than 5\n"
     ]
    }
   ],
   "source": [
    "x = 3\n",
    "if x > 0:\n",
    "    print(\"x is greater than 0\")\n",
    "else:\n",
    "    print(\"x is smaller than 0\")\n",
    "\n",
    "if x > 5:\n",
    "    print(\"x is greater than 5\")\n",
    "elif x > 2:\n",
    "    print(\"x is greater than 2 but not greater than 5\")\n",
    "else:\n",
    "    print(\"x is smaller than or equals to 2\")"
   ]
  },
  {
   "cell_type": "markdown",
   "metadata": {},
   "source": [
    "#### 随机数生成"
   ]
  },
  {
   "cell_type": "code",
   "execution_count": 19,
   "metadata": {},
   "outputs": [
    {
     "name": "stdout",
     "output_type": "stream",
     "text": [
      "抛硬币 0\n",
      "抛硬币 1\n",
      "抛硬币 0\n",
      "抛硬币 1\n",
      "抛硬币 0\n",
      "抛硬币 0\n",
      "\n",
      "掷骰子 1\n",
      "掷骰子 1\n",
      "掷骰子 6\n"
     ]
    }
   ],
   "source": [
    "from random import randint\n",
    "\n",
    "print(\"抛硬币\", randint(0, 1))\n",
    "print(\"抛硬币\", randint(0, 1))\n",
    "print(\"抛硬币\", randint(0, 1))\n",
    "print(\"抛硬币\", randint(0, 1))\n",
    "print(\"抛硬币\", randint(0, 1))\n",
    "print(\"抛硬币\", randint(0, 1))\n",
    "print()  # 空行\n",
    "print(\"掷骰子\", randint(1, 6))\n",
    "print(\"掷骰子\", randint(1, 6))\n",
    "print(\"掷骰子\", randint(1, 6))"
   ]
  },
  {
   "cell_type": "markdown",
   "metadata": {},
   "source": [
    "#### 编写函数"
   ]
  },
  {
   "cell_type": "code",
   "execution_count": 34,
   "metadata": {},
   "outputs": [
    {
     "name": "stdout",
     "output_type": "stream",
     "text": [
      "7\n",
      "0.8125\n",
      "17\n",
      "19\n"
     ]
    }
   ],
   "source": [
    "def add(a, b):\n",
    "    return a + b\n",
    "\n",
    "print(add(3, 4))\n",
    "\n",
    "\n",
    "from math import floor\n",
    "\n",
    "def get_decimal_part(x):\n",
    "    return x - floor(x)\n",
    "\n",
    "print(get_decimal_part(6.8125))\n",
    "\n",
    "\n",
    "def calc_sum_of_list(l):\n",
    "    list_sum = 0\n",
    "    for num in l:\n",
    "        list_sum = list_sum + num\n",
    "    return list_sum\n",
    "\n",
    "def calc_sum_of_all_positive_nums_in_list(l):\n",
    "    list_sum = 0\n",
    "    for num in l:\n",
    "        if num > 0:\n",
    "            list_sum = list_sum + num\n",
    "    return list_sum\n",
    "\n",
    "print(calc_sum_of_list([1, 4, 6, 8, -2]))\n",
    "print(calc_sum_of_all_positive_nums_in_list([1, 4, 6, 8, -2]))"
   ]
  },
  {
   "cell_type": "markdown",
   "metadata": {},
   "source": [
    "#### while 循环"
   ]
  },
  {
   "cell_type": "code",
   "execution_count": 46,
   "metadata": {},
   "outputs": [
    {
     "name": "stdout",
     "output_type": "stream",
     "text": [
      "0\n",
      "1\n",
      "2\n",
      "3\n",
      "4\n",
      "5\n",
      "6\n",
      "7\n",
      "8\n",
      "9\n",
      "done\n",
      "\n",
      "将会一直执行……\n",
      "将会一直执行……\n",
      "将会一直执行……\n",
      "将会一直执行……\n",
      "将会一直执行……\n",
      "将会一直执行……\n",
      "将会一直执行……\n",
      "将会一直执行……\n",
      "……直到我们手动执行 break 语句\n",
      "执行结束\n"
     ]
    }
   ],
   "source": [
    "x = 0\n",
    "while x < 10:\n",
    "    print(x)\n",
    "    x = x + 1\n",
    "print(\"done\")\n",
    "\n",
    "print() # 换行\n",
    "\n",
    "from random import randint\n",
    "while True:\n",
    "    print(\"将会一直执行……\")\n",
    "    if randint(1, 100) > 95:\n",
    "        print(\"……直到我们手动执行 break 语句\")\n",
    "        break\n",
    "print(\"执行结束\")"
   ]
  },
  {
   "cell_type": "markdown",
   "metadata": {},
   "source": [
    "#### 动态获取用户输入"
   ]
  },
  {
   "cell_type": "code",
   "execution_count": 47,
   "metadata": {},
   "outputs": [
    {
     "name": "stdin",
     "output_type": "stream",
     "text": [
      "What is your name?  Jane\n"
     ]
    },
    {
     "name": "stdout",
     "output_type": "stream",
     "text": [
      "The user has entered: Jane\n"
     ]
    }
   ],
   "source": [
    "user_response = input(\"What is your name? \")\n",
    "print(\"The user has entered:\", user_response)"
   ]
  },
  {
   "cell_type": "code",
   "execution_count": 48,
   "metadata": {},
   "outputs": [
    {
     "name": "stdin",
     "output_type": "stream",
     "text": [
      "Please guess the number:  80\n"
     ]
    },
    {
     "name": "stdout",
     "output_type": "stream",
     "text": [
      "The correct answer is greater than your guess\n"
     ]
    },
    {
     "name": "stdin",
     "output_type": "stream",
     "text": [
      "Please guess the number:  90\n"
     ]
    },
    {
     "name": "stdout",
     "output_type": "stream",
     "text": [
      "The correct answer is greater than your guess\n"
     ]
    },
    {
     "name": "stdin",
     "output_type": "stream",
     "text": [
      "Please guess the number:  500\n"
     ]
    },
    {
     "name": "stdout",
     "output_type": "stream",
     "text": [
      "The correct answer is greater than your guess\n"
     ]
    },
    {
     "name": "stdin",
     "output_type": "stream",
     "text": [
      "Please guess the number:  750\n"
     ]
    },
    {
     "name": "stdout",
     "output_type": "stream",
     "text": [
      "The correct answer is greater than your guess\n"
     ]
    },
    {
     "name": "stdin",
     "output_type": "stream",
     "text": [
      "Please guess the number:  875\n"
     ]
    },
    {
     "name": "stdout",
     "output_type": "stream",
     "text": [
      "The correct answer is greater than your guess\n"
     ]
    },
    {
     "name": "stdin",
     "output_type": "stream",
     "text": [
      "Please guess the number:  938\n"
     ]
    },
    {
     "name": "stdout",
     "output_type": "stream",
     "text": [
      "The correct answer is greater than your guess\n"
     ]
    },
    {
     "name": "stdin",
     "output_type": "stream",
     "text": [
      "Please guess the number:  969\n"
     ]
    },
    {
     "name": "stdout",
     "output_type": "stream",
     "text": [
      "The correct answer is greater than your guess\n"
     ]
    },
    {
     "name": "stdin",
     "output_type": "stream",
     "text": [
      "Please guess the number:  984\n"
     ]
    },
    {
     "name": "stdout",
     "output_type": "stream",
     "text": [
      "The correct answer is greater than your guess\n"
     ]
    },
    {
     "name": "stdin",
     "output_type": "stream",
     "text": [
      "Please guess the number:  992\n"
     ]
    },
    {
     "name": "stdout",
     "output_type": "stream",
     "text": [
      "The correct answer is smaller than your guess\n"
     ]
    },
    {
     "name": "stdin",
     "output_type": "stream",
     "text": [
      "Please guess the number:  988\n"
     ]
    },
    {
     "name": "stdout",
     "output_type": "stream",
     "text": [
      "Correct!\n"
     ]
    }
   ],
   "source": [
    "from random import randint\n",
    "answer = randint(1, 1000)\n",
    "\n",
    "while True:\n",
    "    user_guess_text = input(\"Please guess the number: \")\n",
    "    user_guess_number = int(user_guess_text)\n",
    "    if user_guess_number > answer:\n",
    "        print(\"The correct answer is smaller than your guess\")\n",
    "    elif user_guess_number < answer:\n",
    "        print(\"The correct answer is greater than your guess\")\n",
    "    else:\n",
    "        print(\"Correct!\")\n",
    "        break"
   ]
  },
  {
   "cell_type": "markdown",
   "metadata": {},
   "source": [
    "## 工作表操作"
   ]
  },
  {
   "cell_type": "markdown",
   "metadata": {},
   "source": [
    "### 插入数据"
   ]
  },
  {
   "cell_type": "code",
   "execution_count": 13,
   "metadata": {},
   "outputs": [],
   "source": [
    "from openpyxl import Workbook\n",
    "wb = Workbook()\n",
    "ws = wb.active\n",
    "data = [\n",
    "    [\"Fruit\", \"price\"],\n",
    "    [\"banana\", 15],\n",
    "    [\"Apple\", 5],\n",
    "    [\"cherry\", 50],\n",
    "    [\"pitaya\", 3],\n",
    "    [\"Pear\", 8],\n",
    "]\n",
    " \n",
    "# 按行写入数据\n",
    "for d in data:\n",
    "    ws.append(d)\n",
    "\n",
    "wb.save('test.xlsx')"
   ]
  },
  {
   "cell_type": "markdown",
   "metadata": {},
   "source": [
    "### 公式"
   ]
  },
  {
   "cell_type": "code",
   "execution_count": 10,
   "metadata": {},
   "outputs": [],
   "source": [
    "from openpyxl import Workbook, load_workbook\n",
    "wb = Workbook()\n",
    "ws = wb.active\n",
    "data = [\n",
    "    [\"Fruit\", \"price\"],\n",
    "    [\"banana\", 15],\n",
    "    [\"Apple\", 5],\n",
    "    [\"cherry\", 50],\n",
    "    [\"pitaya\", 3],\n",
    "    [\"Pear\", 8],\n",
    "    [\"Sum\", 0],\n",
    "]\n",
    "# 按行写入数据\n",
    "for d in data:\n",
    "    ws.append(d)\n",
    "ws['B7'] = \"=SUM(B2:B6)\"\n",
    "wb.save(\"test1.xlsx\")"
   ]
  },
  {
   "cell_type": "markdown",
   "metadata": {},
   "source": [
    "查看Excel表格，是否成功"
   ]
  },
  {
   "cell_type": "markdown",
   "metadata": {},
   "source": [
    "### 遍历数据"
   ]
  },
  {
   "cell_type": "code",
   "execution_count": 15,
   "metadata": {},
   "outputs": [
    {
     "name": "stdout",
     "output_type": "stream",
     "text": [
      "row 1 column  1 value  Fruit\n",
      "row 1 column  2 value  price\n",
      "row 2 column  1 value  banana\n",
      "row 2 column  2 value  15\n",
      "row 3 column  1 value  Apple\n",
      "row 3 column  2 value  5\n",
      "row 4 column  1 value  cherry\n",
      "row 4 column  2 value  50\n",
      "row 5 column  1 value  pitaya\n",
      "row 5 column  2 value  3\n",
      "row 6 column  1 value  Pear\n",
      "row 6 column  2 value  8\n"
     ]
    }
   ],
   "source": [
    "# 给工作表插入新行\n",
    "wb = load_workbook(\"test.xlsx\")\n",
    "ws = wb.active\n",
    "\n",
    "rows = ws.max_row\n",
    "columns = ws.max_column\n",
    "\n",
    "for i in range(1,rows+1):\n",
    "    for j in range(1,columns +1):\n",
    "        print(\"row\", i, \"column\", j, \"value\", ws.cell(i, j).value)\n"
   ]
  },
  {
   "cell_type": "markdown",
   "metadata": {},
   "source": [
    "## 单元格"
   ]
  },
  {
   "cell_type": "markdown",
   "metadata": {},
   "source": [
    "### 访问单元格"
   ]
  },
  {
   "cell_type": "code",
   "execution_count": 2,
   "metadata": {},
   "outputs": [
    {
     "name": "stdout",
     "output_type": "stream",
     "text": [
      "(<Cell 'test1'.B1>,)\n",
      "(<Cell 'test1'.A2>, <Cell 'test1'.B2>)\n",
      "<Cell 'test1'.B2>\n",
      "<Cell 'test1'.A1>\n",
      "((<Cell 'test1'.A1>, <Cell 'test1'.A2>), (<Cell 'test1'.B1>, <Cell 'test1'.B2>), (<Cell 'test1'.C1>, <Cell 'test1'.C2>))\n"
     ]
    }
   ],
   "source": [
    "from openpyxl import Workbook\n",
    "wb = Workbook()\n",
    "ws = wb.create_sheet(\"test_1\")\n",
    "ws.title = \"test1\"\n",
    "print(ws[\"B\"])  #访问某列单元格\n",
    "print(ws[\"2\"])  #访问某行单元格\n",
    "print(ws[\"B2\"])  #访问单元格"
   ]
  },
  {
   "cell_type": "markdown",
   "metadata": {},
   "source": [
    "### 合并"
   ]
  },
  {
   "cell_type": "code",
   "execution_count": 17,
   "metadata": {},
   "outputs": [
    {
     "name": "stdout",
     "output_type": "stream",
     "text": [
      "合并单元格前:\n",
      "\n",
      "[]\n",
      "合并单元格后:\n",
      "A1:B1 B2:D3\n",
      "[<MergedCellRange A1:B1>, <MergedCellRange B2:D3>]\n"
     ]
    }
   ],
   "source": [
    "from openpyxl import Workbook\n",
    "wb = Workbook()\n",
    "ws = wb.create_sheet(\"test_1\")\n",
    "ws.title = \"test1\"\n",
    "print(\"合并单元格前:\")\n",
    "# 合并的单元格\n",
    "print(ws.merged_cells)\n",
    "# 合并单元格的范围\n",
    "print(ws.merged_cells.ranges)\n",
    "# 用merge_cells合并单元格\n",
    "ws.merge_cells(\"A1:B1\")\n",
    "ws.merge_cells(start_column=2,end_column=4,start_row=2,end_row=3)\n",
    "print(\"合并单元格后:\")\n",
    "print(ws.merged_cells)\n",
    "print(ws.merged_cells.ranges)"
   ]
  },
  {
   "cell_type": "markdown",
   "metadata": {},
   "source": [
    "### 拆分"
   ]
  },
  {
   "cell_type": "code",
   "execution_count": 18,
   "metadata": {},
   "outputs": [
    {
     "name": "stdout",
     "output_type": "stream",
     "text": [
      "拆分单元格前:\n",
      "A1:B1 B2:D3\n",
      "[<MergedCellRange A1:B1>, <MergedCellRange B2:D3>]\n",
      "拆分单元格后:\n",
      "\n",
      "[]\n"
     ]
    }
   ],
   "source": [
    "from openpyxl import Workbook\n",
    "wb = Workbook()\n",
    "ws = wb.create_sheet(\"test_1\")\n",
    "ws.title = \"test1\"\n",
    "ws.merge_cells(\"A1:B1\")\n",
    "ws.merge_cells(start_column=2,end_column=4,start_row=2,end_row=3)\n",
    "print(\"拆分单元格前:\")\n",
    "print(ws.merged_cells)\n",
    "print(ws.merged_cells.ranges)\n",
    "# unmerge_cells拆分单元格\n",
    "ws.unmerge_cells('A1:B1')\n",
    "ws.unmerge_cells('B2:D3')\n",
    "print(\"拆分单元格后:\")\n",
    "print(ws.merged_cells)\n",
    "print(ws.merged_cells.ranges)"
   ]
  },
  {
   "cell_type": "markdown",
   "metadata": {},
   "source": [
    "### 单元格遍历"
   ]
  },
  {
   "cell_type": "code",
   "execution_count": 20,
   "metadata": {},
   "outputs": [
    {
     "name": "stdout",
     "output_type": "stream",
     "text": [
      "(11,)\n",
      "(12,)\n"
     ]
    }
   ],
   "source": [
    "from openpyxl import Workbook\n",
    "wb = Workbook()\n",
    "ws = wb.create_sheet(\"test_1\")\n",
    "ws.title = \"test1\"\n",
    "# 获取第1行第1列的单元格\n",
    "a = ws.cell(1, 1)\n",
    "# 赋值\n",
    "a.value = 11\n",
    "ws.cell(2, 1).value = 12\n",
    "# for循环\n",
    "for i in ws.values:\n",
    "    print(i)"
   ]
  },
  {
   "cell_type": "markdown",
   "metadata": {},
   "source": [
    "### 设置单元格样式"
   ]
  },
  {
   "cell_type": "code",
   "execution_count": 35,
   "metadata": {},
   "outputs": [
    {
     "name": "stdout",
     "output_type": "stream",
     "text": [
      "字体: <openpyxl.styles.fonts.Font object>\n",
      "Parameters:\n",
      "name='宋体', charset=None, family=None, b=True, i=False, strike=None, outline=None, shadow=None, condense=None, color=<openpyxl.styles.colors.Color object>\n",
      "Parameters:\n",
      "rgb='00FF0000', indexed=None, auto=None, theme=None, tint=0.0, type='rgb', extend=None, sz=12.0, u=None, vertAlign=None, scheme=None\n",
      "对齐: <openpyxl.styles.alignment.Alignment object>\n",
      "Parameters:\n",
      "horizontal='right', vertical=None, textRotation=0, wrapText=None, shrinkToFit=None, indent=0.0, relativeIndent=0.0, justifyLastLine=None, readingOrder=0.0\n",
      "边框: <openpyxl.styles.borders.Border object>\n",
      "Parameters:\n",
      "outline=True, diagonalUp=False, diagonalDown=False, start=None, end=None, left=<openpyxl.styles.borders.Side object>\n",
      "Parameters:\n",
      "style='thin', color=<openpyxl.styles.colors.Color object>\n",
      "Parameters:\n",
      "rgb='00FF0000', indexed=None, auto=None, theme=None, tint=0.0, type='rgb', right=<openpyxl.styles.borders.Side object>\n",
      "Parameters:\n",
      "style='thin', color=<openpyxl.styles.colors.Color object>\n",
      "Parameters:\n",
      "rgb='00FF0000', indexed=None, auto=None, theme=None, tint=0.0, type='rgb', top=None, bottom=None, diagonal=None, vertical=None, horizontal=None\n",
      "填充: <openpyxl.styles.fills.PatternFill object>\n",
      "Parameters:\n",
      "patternType='solid', fgColor=<openpyxl.styles.colors.Color object>\n",
      "Parameters:\n",
      "rgb='00FF0000', indexed=None, auto=None, theme=None, tint=0.0, type='rgb', bgColor=<openpyxl.styles.colors.Color object>\n",
      "Parameters:\n",
      "rgb='00000000', indexed=None, auto=None, theme=None, tint=0.0, type='rgb'\n",
      "数字格式: 0%\n",
      "超链接: None\n"
     ]
    }
   ],
   "source": [
    "from openpyxl import Workbook\n",
    "from openpyxl.styles import Font, PatternFill, Border, Side, Alignment, Protection\n",
    "from openpyxl.styles import numbers\n",
    "wb = Workbook()\n",
    "ws = wb.create_sheet(\"test_1\")\n",
    "ws.title = \"test1\"\n",
    "# cell单元格\n",
    "cell = ws.cell(1, 1)\n",
    "cell.value = 11\n",
    "# 字体\n",
    "cell.font = Font(name=u'宋体', size=12, bold=True, color='FF0000')\n",
    "# 对齐\n",
    "cell.alignment = Alignment(horizontal='right')\n",
    "# 填充\n",
    "cell.fill = PatternFill(fill_type='solid', start_color='FF0000')\n",
    "# 边框\n",
    "cell.border = Border(left=Side(border_style='thin', color='FF0000'), right= Side(border_style='thin', color='FF0000'))\n",
    "# 数字格式\n",
    "cell.number_format =numbers.FORMAT_PERCENTAGE\n",
    "print(\"字体:\" ,cell.font,)\n",
    "print(\"对齐:\" ,cell.alignment)\n",
    "print(\"边框:\" ,cell.border)\n",
    "print(\"填充:\" ,cell.fill)\n",
    "print(\"数字格式:\",cell.number_format)\n",
    "print(\"超链接:\" ,cell.hyperlink)\n",
    "wb.save(\"cell_style.xlsx\")"
   ]
  },
  {
   "cell_type": "markdown",
   "metadata": {},
   "source": [
    "## 批量操作和汇总操作"
   ]
  },
  {
   "cell_type": "markdown",
   "metadata": {},
   "source": [
    "### 批量插入图片"
   ]
  },
  {
   "cell_type": "code",
   "execution_count": 82,
   "metadata": {},
   "outputs": [
    {
     "name": "stdout",
     "output_type": "stream",
     "text": [
      "001.png\n",
      "001.png\n"
     ]
    }
   ],
   "source": [
    "from openpyxl import load_workbook\n",
    "from openpyxl.drawing.image import Image\n",
    "from openpyxl.drawing.spreadsheet_drawing import AnchorMarker, TwoCellAnchor\n",
    "import os\n",
    "wb = Workbook()\n",
    "ws = wb.active\n",
    "\n",
    "def insertimg2excel(imgPath, excelPath,i,j):\n",
    " \n",
    "    print(imgPath)\n",
    "    # imgsize =(702/4,1080/4)   # 设置一个图像缩小的比例\n",
    "  \n",
    "    img = Image(imgPath)\n",
    "    height = img.height\n",
    "    width = img.width\n",
    "    #  调整列宽\n",
    "   \n",
    "    ws.column_dimensions['B'].width =  width/10\n",
    " \n",
    "    # 调整行高 *6是为了换算像素\n",
    "  \n",
    "    ws.row_dimensions[j+1].height = height/10*6\n",
    "    # 设置锚点 图片随单元格一起动\n",
    "    _from = AnchorMarker(i, 50000, j, 50000)\n",
    "    to = AnchorMarker(i+1, -50000, j+1, -50000)\n",
    "    img.anchor = TwoCellAnchor('twoCell', _from, to)\n",
    "    ws.add_image(img)\n",
    "\n",
    "\n",
    "if __name__ == '__main__':\n",
    "    imgPath = '001.png'\n",
    "    excelPath = 'test.xlsx'\n",
    "    i = 1\n",
    "    for f in os.listdir(\"img\"):\n",
    "        if f.endswith('.png'):\n",
    "\n",
    "           insertimg2excel(imgPath, excelPath,1,i)\n",
    "           i = i +1\n",
    "    wb.save('out.xlsx')\n"
   ]
  },
  {
   "cell_type": "code",
   "execution_count": null,
   "metadata": {},
   "outputs": [],
   "source": []
  },
  {
   "cell_type": "code",
   "execution_count": 55,
   "metadata": {},
   "outputs": [
    {
     "name": "stdout",
     "output_type": "stream",
     "text": [
      "001.png\n"
     ]
    }
   ],
   "source": [
    "from openpyxl import load_workbook\n",
    "from openpyxl.drawing.image import Image\n",
    "from openpyxl.drawing.spreadsheet_drawing import AnchorMarker, TwoCellAnchor\n",
    "\n",
    "\n",
    "\n",
    "\n",
    "\n",
    "if __name__ == '__main__':\n",
    "    imgPath = '001.png'\n",
    "    excelPath = 'test.xlsx'\n",
    "    insertimg2excel(imgPath, excelPath)\n"
   ]
  },
  {
   "cell_type": "markdown",
   "metadata": {},
   "source": [
    "#### 批量提取身份证号信息"
   ]
  },
  {
   "cell_type": "code",
   "execution_count": 49,
   "metadata": {},
   "outputs": [],
   "source": [
    "import openpyxl\n",
    "import re\n",
    "\n",
    "# 打开工作簿\n",
    "wb = openpyxl.load_workbook('test.xlsx')\n",
    "\n",
    "# 获取当前工作表\n",
    "ws = wb.active\n",
    "\n",
    "# 在表头下方插入两列，分别用于存储出生年月和性别\n",
    "ws.insert_cols(2)\n",
    "ws.cell(row=1, column=2).value = '出生年月'\n",
    "ws.cell(row=1, column=3).value = '性别'\n",
    "\n",
    "# 遍历每个单元格，提取出出生年月和性别\n",
    "for row in range(2, ws.max_row+1):\n",
    "    id_num = str(ws.cell(row=row, column=1).value)  # 获取身份证号，转换为字符串类型\n",
    "    if len(id_num) == 18:\n",
    "        birth = id_num[6:14]  # 出生年月\n",
    "        gender = int(id_num[-2])  # 性别码，倒数第二位\n",
    "        if gender % 2 == 0:\n",
    "            gender = '女'\n",
    "        else:\n",
    "            gender = '男'\n",
    "        ws.cell(row=row, column=2).value = birth\n",
    "        ws.cell(row=row, column=3).value = gender\n",
    "\n",
    "# 保存工作簿\n",
    "wb.save('example.xlsx')"
   ]
  },
  {
   "cell_type": "markdown",
   "metadata": {},
   "source": [
    "## 图表"
   ]
  },
  {
   "cell_type": "code",
   "execution_count": 39,
   "metadata": {},
   "outputs": [],
   "source": [
    "from openpyxl import Workbook\n",
    "from openpyxl.chart import BarChart, Reference # BarChart：条形图、柱形图\n",
    " \n",
    "wb = Workbook()\n",
    "ws = wb.active\n",
    " \n",
    "# 写入一列数数据\n",
    "for i in range(10):\n",
    "    ws.append([i])\n",
    " \n",
    "values = Reference(ws, min_col=1, min_row=1, max_col=1, max_row=10) # 选择图表的数据源\n",
    "chart = BarChart() # 创建一个BarChart对象\n",
    "chart.add_data(values) # 给BarChart对象添加数据源\n",
    "ws.add_chart(chart, \"E15\") # 在工作表上添加图表，并指定图表左上角锚定的单元格。\n",
    "wb.save('draw.xlsx') # 保存工作薄"
   ]
  },
  {
   "cell_type": "markdown",
   "metadata": {},
   "source": [
    "### 作业\n",
    "\n",
    "1. 编写一个计算阶乘的函数。要求用 while 和 for 两种循环分别实现\n",
    "2. 生成 1000 个 0-20 之间的随机整数，插入 excel 并使用 =SUM 公式计算它们的平均值\n",
    "3. 阅读代码，预测结果"
   ]
  },
  {
   "cell_type": "code",
   "execution_count": 49,
   "metadata": {},
   "outputs": [
    {
     "name": "stdout",
     "output_type": "stream",
     "text": [
      "3628800 3628800\n"
     ]
    }
   ],
   "source": [
    "# 1. \n",
    "\n",
    "def factorial_for(n):\n",
    "    result = 1\n",
    "    for i in range(n):\n",
    "        # i 是从 0 开始的。我们要手动加 1\n",
    "        result = result * (i + 1)\n",
    "    return result\n",
    "\n",
    "def factorial_while(n):\n",
    "    result = 1\n",
    "    current = 1\n",
    "    while current <= n:\n",
    "        result = result * current\n",
    "        current = current + 1\n",
    "    return result\n",
    "\n",
    "print(factorial_for(10), factorial_while(10))"
   ]
  },
  {
   "cell_type": "code",
   "execution_count": 53,
   "metadata": {},
   "outputs": [],
   "source": [
    "# 2. \n",
    "\n",
    "from random import randint\n",
    "from openpyxl import Workbook\n",
    "\n",
    "wb = Workbook()\n",
    "ws = wb.active\n",
    "\n",
    "# 按行写入数据\n",
    "for d in range(1000):\n",
    "    row = [randint(0, 20)]  # 只有一个 cell 的 row\n",
    "    ws.append(row)\n",
    "\n",
    "ws.append([\"Summary value is\", \"=SUM(A1:A1000)\"])\n",
    "wb.save('test.xlsx')"
   ]
  },
  {
   "cell_type": "code",
   "execution_count": null,
   "metadata": {},
   "outputs": [],
   "source": [
    "!pwd"
   ]
  },
  {
   "cell_type": "code",
   "execution_count": null,
   "metadata": {},
   "outputs": [],
   "source": [
    "!echo %cd%"
   ]
  },
  {
   "cell_type": "code",
   "execution_count": 57,
   "metadata": {},
   "outputs": [
    {
     "name": "stdout",
     "output_type": "stream",
     "text": [
      "1 * 1 = 1\t1 * 2 = 2\t1 * 3 = 3\t1 * 4 = 4\t1 * 5 = 5\t1 * 6 = 6\t1 * 7 = 7\t1 * 8 = 8\t1 * 9 = 9\t\n",
      "2 * 2 = 4\t2 * 3 = 6\t2 * 4 = 8\t2 * 5 = 10\t2 * 6 = 12\t2 * 7 = 14\t2 * 8 = 16\t2 * 9 = 18\t\n",
      "3 * 3 = 9\t3 * 4 = 12\t3 * 5 = 15\t3 * 6 = 18\t3 * 7 = 21\t3 * 8 = 24\t3 * 9 = 27\t\n",
      "4 * 4 = 16\t4 * 5 = 20\t4 * 6 = 24\t4 * 7 = 28\t4 * 8 = 32\t4 * 9 = 36\t\n",
      "5 * 5 = 25\t5 * 6 = 30\t5 * 7 = 35\t5 * 8 = 40\t5 * 9 = 45\t\n",
      "6 * 6 = 36\t6 * 7 = 42\t6 * 8 = 48\t6 * 9 = 54\t\n",
      "7 * 7 = 49\t7 * 8 = 56\t7 * 9 = 63\t\n",
      "8 * 8 = 64\t8 * 9 = 72\t\n",
      "9 * 9 = 81\t\n"
     ]
    }
   ],
   "source": [
    "# 3. 思考一下输出结果？\n",
    "\n",
    "for i in range(1, 10):  # 1, 2, 3, 4, ..., 9\n",
    "    for j in range(i, 10):  # i, i+1, i+2, ..., 9\n",
    "        print(i, \"*\", j, \"=\", i * j, end=\"\\t\")  # 默认 print 会多输出一个换行，通过 end 参数控制多输出的字符\n",
    "    print()  # 换行"
   ]
  },
  {
   "cell_type": "code",
   "execution_count": null,
   "metadata": {},
   "outputs": [],
   "source": []
  }
 ],
 "metadata": {
  "kernelspec": {
   "display_name": "Python 3 (ipykernel)",
   "language": "python",
   "name": "python3"
  },
  "language_info": {
   "codemirror_mode": {
    "name": "ipython",
    "version": 3
   },
   "file_extension": ".py",
   "mimetype": "text/x-python",
   "name": "python",
   "nbconvert_exporter": "python",
   "pygments_lexer": "ipython3",
   "version": "3.11.4"
  },
  "vscode": {
   "interpreter": {
    "hash": "7b74dce95157694c6712cfabdb235508a966402c4c89491dafd16804ce25fda9"
   }
  }
 },
 "nbformat": 4,
 "nbformat_minor": 4
}
