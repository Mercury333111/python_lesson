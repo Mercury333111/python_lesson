{
 "cells": [
  {
   "cell_type": "code",
   "execution_count": null,
   "id": "9908d5bb-67e4-453a-8fd6-e2f1bbdce4c8",
   "metadata": {},
   "outputs": [],
   "source": [
    "Day 7 / 爬虫综合进阶训练\n",
    "    复习：将上上节课的小爬虫 改写为基于 selector 的版本\n",
    "    爬取非文本数据\n",
    "        获取图片链接\n",
    "            img 元素\n",
    "            src 属性\n",
    "        下载图片\n",
    "            发送请求\n",
    "            储存图片到本地文件\n",
    "                with open() as f\n",
    "                f.write\n",
    "            储存其它信息到本地文件\n",
    "            读取本地文件\n",
    "        下载音乐\n",
    "    复杂逻辑\n",
    "        检索\n",
    "            search params 拼接\n",
    "        换页\n",
    "        获取身份：Cookie\n",
    "    爬取结果的保存和读取\n",
    "        保存到 XML\n",
    "            读取\n",
    "        保存到 JSON\n",
    "            读取\n",
    "        保存到 pickle\n",
    "            读取"
   ]
  },
  {
   "cell_type": "code",
   "execution_count": 18,
   "id": "3b3ec23b-1e2e-4626-a47f-13c8cf07676f",
   "metadata": {
    "scrolled": true
   },
   "outputs": [],
   "source": [
    "import requests\n",
    "from html import unescape\n",
    "\n",
    "# 目标：提取出所有的 HTML 标签和描述，放入一个 Python dictionary 数据结构。\n",
    "\n",
    "# 第一步：获取网页的完整源码\n",
    "\n",
    "响应 = requests.get(\"https://www.w3school.com.cn/tags/index.asp\")\n",
    "html = 响应.text\n",
    "\n",
    "# 第二步：找到合适的特征字符串，进行逐步切割\n",
    "\n",
    "# 特征字符串 1：<table class=\"dataintable\">\n",
    "\n",
    "# 定位\n",
    "feature_string_1_position = html.index(\"<table class=\\\"dataintable\\\">\")\n",
    "# 切割\n",
    "html_step_1 = html[feature_string_1_position + len(\"<table class=\\\"dataintable\\\">\"):]\n",
    "\n",
    "\n",
    "# 特征字符串 2：</table>\n",
    "\n",
    "# 定位 index\n",
    "feature_string_2_position = html_step_1.index(\"</table>\")  # 注意要用 html_step_1 而不是 html\n",
    "# 切割 [start:end]\n",
    "html_step_2 = html_step_1[:feature_string_2_position]\n",
    "\n",
    "# \"abcdef\".index(\"cd\") == 2\n",
    "# \"abcdef\"[2:] == \"cdef\"\n",
    "# \"abcdef\"[2 + len(\"cd\"):] == \"ef\"\n",
    "\n",
    "# 第三步：已经切出了有用的部分，进行 split 分割成小单元处理，每个小单元的结构是一样的\n",
    "\n",
    "# 用 split 分割成 N+1 个部分，得到一个列表\n",
    "all_cells = html_step_2.split(\"</tr>\")\n",
    "# 去掉表头\n",
    "all_cells.pop(0)\n",
    "\n",
    "# 用于储存结果的列表变量\n",
    "result_list = []\n",
    "\n",
    "# 在循环里面分析每个小单元\n",
    "for cell in all_cells:\n",
    "    try:\n",
    "        # 储存小单元分析结果的字典变量\n",
    "        cell_data = {}\n",
    "\n",
    "        # 通过 print 发现前 23 个字符没用，丢掉\n",
    "        useful_data = cell[23:]\n",
    "        # 通过 print 发现网址结尾之后立马是一个双引号字符\n",
    "        link = useful_data[0:useful_data.index('\"')]\n",
    "        # 储存\n",
    "        cell_data[\"href\"] = link\n",
    "\n",
    "        # 通过 print 发现元素名部分从第一个双引号字符往后两个字符开始，到第一个 </td> 结束\n",
    "        # 定位+切割一步完成\n",
    "        element_name = useful_data[useful_data.index('\"') + 2 : useful_data.index('</td>')]\n",
    "        # 删除两端空白符避免干扰（strip()），删除可能存在的 &nbsp; 后缀避免干扰，删除一定存在的 </a> 后缀 （这些都没用）\n",
    "        element_name = element_name.strip().removesuffix(\"&nbsp;\").removesuffix(\"</a>\")\n",
    "        # 反转义，&lt; --> 小于号， &gt; --> 大于号\n",
    "        element_name = unescape(element_name)\n",
    "        # 储存\n",
    "        cell_data[\"name\"] = element_name\n",
    "\n",
    "        # 通过 print 发现 元素用途从 useful_data 里的第一个 <td> 开始，先切一刀\n",
    "        explanation = useful_data[useful_data.index(\"<td>\") + len(\"<td>\"):]\n",
    "        # 通过 print 发现 元素用途到 explanation 里的第一个 </td> 结束，再切一刀\n",
    "        explanation = explanation[:explanation.index(\"</td>\")]\n",
    "        # 储存\n",
    "        cell_data[\"usage\"] = explanation\n",
    "\n",
    "        # 把当前 cell 的结果存进全局的结果列表里面\n",
    "        result_list.append(cell_data)\n",
    "    except:\n",
    "        continue\n",
    "\n",
    "# 遍历结果列表，打印\n",
    "for info in result_list:\n",
    "    print(\"标签：\", info[\"name\"])\n",
    "    print(\"用途：\", info[\"usage\"])\n",
    "    print(\"说明链接：\", \"https://www.w3school.com.cn{}\".format(info[\"href\"]))\n",
    "    print()"
   ]
  },
  {
   "cell_type": "code",
   "execution_count": 17,
   "id": "60391acd-47e8-4c93-84fe-fe8777e1500b",
   "metadata": {},
   "outputs": [],
   "source": [
    "import requests, bs4\n",
    "from html import unescape\n",
    "\n",
    "# 目标：提取出所有的 HTML 标签和描述，放入一个 Python dictionary 数据结构。\n",
    "\n",
    "# 第一步：获取网页的完整源码\n",
    "\n",
    "响应 = requests.get(\"https://www.w3school.com.cn/tags/index.asp\")\n",
    "html = 响应.text\n",
    "\n",
    "# 第二步：使用 bs4 完成树状结构的解析\n",
    "\n",
    "soup = bs4.BeautifulSoup(html)\n",
    "# print(soup.prettify())\n",
    "\n",
    "tags = soup.select(\"#maincontent table.dataintable td:nth-child(1)\")\n",
    "usages = soup.select(\"#maincontent table.dataintable td:nth-child(2)\")\n",
    "\n",
    "assert len(tags) == len(usages)\n",
    "assert len(tags) > 0\n",
    "\n",
    "# 第三步：提取信息\n",
    "\n",
    "result_list = []\n",
    "\n",
    "for i in range(len(tags)):\n",
    "    tag = tags[i]\n",
    "    usage = usages[i]\n",
    "    tag_links = tag.select(\"a\")\n",
    "    if len(tag_links) > 0:\n",
    "        link = tag_links[0].get(\"href\")\n",
    "        result_list.append({ \"name\": tag.get_text(), \"usage\": usage.get_text(), \"href\": link })\n",
    "    else:\n",
    "        result_list.append({ \"name\": tag.get_text(), \"usage\": usage.get_text(), \"href\": \"\" })\n",
    "\n",
    "# 遍历结果列表，打印\n",
    "\n",
    "for info in result_list:\n",
    "    print(\"标签：\", info[\"name\"])\n",
    "    print(\"用途：\", info[\"usage\"])\n",
    "    print(\"说明链接：\", \"https://www.w3school.com.cn{}\".format(info[\"href\"]) if info[\"href\"] else \"\")\n",
    "    print()"
   ]
  },
  {
   "cell_type": "markdown",
   "id": "963a5f92-84f2-4a2b-94f1-94380159ea95",
   "metadata": {},
   "source": [
    "### 爬取非文本数据\n",
    "\n",
    "#### 获取图片链接\n",
    "\n",
    "    img 元素 https://www.w3school.com.cn/tags/tag_img.asp\n",
    "\n",
    "```html\n",
    "<img src=\"/i/eg_tulip.jpg\"  alt=\"上海鲜花港 - 郁金香\" />\n",
    "```\n",
    "    \n",
    "    src 属性 和 alt 属性\n",
    "\n",
    "#### 下载图片\n",
    "    \n",
    "    发送请求\n",
    "\n",
    "```python\n",
    "import requests\n",
    "\n",
    "url = \"https://www.w3school.com.cn/i/eg_tulip.jpg\"\n",
    "resp = requests.get(url)\n",
    "\n",
    "if response.status_code == 200:\n",
    "    print(resp.content)  # 图片不是文本，不能使用 .text\n",
    "```\n",
    "    \n",
    "    储存信息到本地文件\n",
    "\n",
    "        open() 和 f.close()\n",
    "\n",
    "        打开文件的模式"
   ]
  },
  {
   "cell_type": "markdown",
   "id": "b58f5c95-48bc-413f-ab23-93e4d1e18a75",
   "metadata": {},
   "source": [
    "1. Read Only (`r`) : Open text file for reading. The handle is positioned at the beginning of the file. If the file does not exists, raises the I/O error. This is also the default mode in which a file is opened.\n",
    "2. Read and Write (`r+`): Open the file for reading and writing. The handle is positioned at the beginning of the file. Raises I/O error if the file does not exist.\n",
    "3. Write Only (`w`) : Open the file for writing. For the existing files, the data is truncated and over-written. The handle is positioned at the beginning of the file. Creates the file if the file does not exist.\n",
    "4. Write and Read (`w+`) : Open the file for reading and writing. For an existing file, data is truncated and over-written. The handle is positioned at the beginning of the file.\n",
    "5. Append Only (`a`): Open the file for writing. The file is created if it does not exist. The handle is positioned at the end of the file. The data being written will be inserted at the end, after the existing data.\n",
    "6. Append and Read (`a+`) : Open the file for reading and writing. The file is created if it does not exist. The handle is positioned at the end of the file. The data being written will be inserted at the end, after the existing data."
   ]
  },
  {
   "cell_type": "markdown",
   "id": "824c2a08-e9e4-4e58-88fb-db4bb161e177",
   "metadata": {},
   "source": [
    "        f.write\n",
    "    \n",
    "        with open() as f\n",
    "\n",
    "```python\n",
    "file = open(\"./example.txt\", 'w')\n",
    "file.write(\"Hello\")\n",
    "file.close()\n",
    "```\n",
    "\n",
    "```python\n",
    "file = open(\"./example.txt\", 'a')\n",
    "file.write(\" World\")\n",
    "file.close()\n",
    "```\n",
    "\n",
    "```python\n",
    "with open(\"./example.txt\", 'w') as f:\n",
    "    file.write(\"Hello\")\n",
    "```\n",
    "    \n",
    "    读取本地文件\n",
    "\n",
    "        f.read(byte_count)\n",
    "\n",
    "        f.readlines()"
   ]
  },
  {
   "cell_type": "code",
   "execution_count": null,
   "id": "468785ab-1f99-4bd7-aa04-132ffc004e8b",
   "metadata": {},
   "outputs": [],
   "source": []
  },
  {
   "cell_type": "markdown",
   "id": "af055ab0-b84e-4344-831b-726c13773562",
   "metadata": {},
   "source": [
    "#### 本地文件路径的规则\n",
    "\n",
    "在Windows和MacOS中，路径分隔符有所不同。\n",
    "\n",
    "- Windows：在Windows中，路径分隔符使用反斜杠（`\\`）。\n",
    "- MacOS：在MacOS中，路径分隔符使用正斜杠（`/`）。\n",
    "\n",
    "在Windows中，反斜杠（`\\`）被用作路径分隔符，但它也是转义字符。因此，如果要在 Python 中使用字符串表示路径，并且要在路径中使用反斜杠本身，需要进行转义，即使用两个反斜杠（`\\\\`）表示一个反斜杠。MacOS则无需进行此操作。\n",
    "\n",
    "例如，在Windows中，要使用 Python 表示路径`C:\\Users\\Username\\Documents\\File.txt`，需要编写如下代码：\n",
    "\n",
    "```python\n",
    "\"C:\\\\Users\\\\Username\\\\Documents\\\\File.txt\"\n",
    "```\n",
    "\n",
    "在MacOS中，要使用 Python 表示路径`/Users/Username/Documents/File.txt`：\n",
    "\n",
    "```python\n",
    "\"/Users/Username/Documents/File.txt\"\n",
    "```\n",
    "\n",
    "绝对路径：绝对路径是从硬盘根目录开始的完整路径。在Windows系统中，硬盘根目录使用驱动器号表示（例如 `C:\\`、`D:\\` 等）。在 MacOS 系统中，根目录的路径只有一个 `/` 字符。\n",
    "\n",
    "相对路径：相对路径是相对于当前工作目录或指定的基准路径的路径。当前工作目录是指在命令提示符或脚本中执行命令时所处的目录。\n",
    "\n",
    "`D:\\Folder\\File.txt` 为绝对路径。\n",
    "\n",
    "相对路径需要有基准路径才能完成「相对」的操作。比如说当前 Jupyter Notebook 已经在某个目录下打开，那么可以相对这个目录，进行相对路径的编写和解析。\n",
    "\n",
    "获取当前 Jupyter Notebook 路径的两种方法：\n",
    "\n",
    "1. 通用方法"
   ]
  },
  {
   "cell_type": "code",
   "execution_count": null,
   "id": "c945108c-eaeb-44d3-bd12-7efb00b79797",
   "metadata": {},
   "outputs": [],
   "source": [
    "import os\n",
    "\n",
    "current_directory = os.getcwd()\n",
    "print(current_directory)"
   ]
  },
  {
   "cell_type": "markdown",
   "id": "86b7c0cf-5cbc-43eb-8bea-60494dea1ed1",
   "metadata": {},
   "source": [
    "2. 区分 MacOS 和 Windows 的方法\n",
    "\n",
    "Windows（以下两行任选一行就行）"
   ]
  },
  {
   "cell_type": "code",
   "execution_count": null,
   "id": "c4b8f455-8485-45af-9df0-5a6b68da6094",
   "metadata": {},
   "outputs": [],
   "source": [
    "!echo %cd%\n",
    "!cd"
   ]
  },
  {
   "cell_type": "markdown",
   "id": "0092c952-4bda-46fd-afaa-ddd3d0903847",
   "metadata": {},
   "source": [
    "MacOS:"
   ]
  },
  {
   "cell_type": "code",
   "execution_count": null,
   "id": "fa590c48-53d3-4d1e-ae96-d4b67632be11",
   "metadata": {},
   "outputs": [],
   "source": [
    "!pwd"
   ]
  },
  {
   "cell_type": "markdown",
   "id": "8127944f-532f-45ea-ab82-683b73272158",
   "metadata": {},
   "source": [
    "Windows 上面相对路径的例子：\n",
    "\n",
    "- 如果当前工作目录为C:\\Users\\Username\\Documents，则Documents\\File.txt 表示当前工作目录中的Documents文件夹中的File.txt文件。\n",
    "- 如果当前工作目录为C:\\Users\\Username，则Documents\\File.txt 表示当前工作目录中的Username文件夹中的Documents文件夹中的File.txt文件。\n",
    "\n",
    "MacOS 上面相对路径的例子：\n",
    "\n",
    "- 如果当前工作目录为 /Users/Username/Documents，则 File.txt 表示当前工作目录中的 File.txt 文件。\n",
    "- 如果当前工作目录为 /Users/Username，则 Documents/File.txt 表示当前工作目录中的 Documents 文件夹中的 File.txt 文件。\n",
    "\n",
    "换言之，它们实际上对应到同一个文件。\n",
    "\n",
    "#### `.` 和 `..`\n",
    "\n",
    "在文件路径中，`.` 和 `..` 表示当前目录和上一级目录，它们通常用于相对路径，但也可以用于绝对路径。\n",
    "\n",
    "- `.`（单个点）：表示当前目录。当你在路径中使用 `.` 时，它指代的是当前所在的目录本身。\n",
    "- `..`（两个点）：表示上一级目录。当你在路径中使用 `..` 时，它会使得当前路径返回上一级目录。\n",
    "\n",
    "例子\n",
    "\n",
    "- 如果当前工作目录为 /Users/A，则 `./File.txt` 表示当前工作目录中的 File.txt 文件 --> `/Users/A/File.txt`\n",
    "- 如果当前工作目录为 /Users/A，则 `../File.txt` 表示当前工作目录的父级目录中的 File.txt 文件 --> `/Users/File.txt`\n"
   ]
  },
  {
   "cell_type": "markdown",
   "id": "9aacddff-f581-4fc2-b967-4771346b7b7c",
   "metadata": {},
   "source": [
    "#### 下载音乐\n",
    "\n",
    "    网易云音乐\n",
    "\n",
    "    浏览器的 Network 工具：分析网络请求\n",
    "\n",
    "    提取出音频文件链接\n",
    "\n",
    "    使用 requests.get 下载\n",
    "\n",
    "    wb 模式保存"
   ]
  },
  {
   "cell_type": "code",
   "execution_count": 20,
   "id": "079ab0f5-6568-4334-9fda-6af0fd5a2c8b",
   "metadata": {},
   "outputs": [],
   "source": [
    "import requests\n",
    "headers = { 'User-Agent': 'Mozilla/5.0 (Macintosh; Intel Mac OS X 10_15_7) AppleWebKit/537.36 (KHTML, like Gecko) Chrome/114.0.0.0 Safari/537.36' }\n",
    "\n",
    "resp = requests.get(\"https://m701.music.126.net/20230807174420/50355c2c0c2a5646f39054f05bcd89d1/jdyyaac/obj/w5rDlsOJwrLDjj7CmsOj/29233433335/7abf/8176/6024/f11013196255be4dec36cf8950b92266.m4a\", headers=headers)\n",
    "\n",
    "with open(\"./music.m4a\", \"wb\") as f:\n",
    "    f.write(resp.content)"
   ]
  },
  {
   "cell_type": "markdown",
   "id": "d8fa2087-bc8c-4ae0-b894-a5a1d84e5fdc",
   "metadata": {},
   "source": [
    "#### 复杂逻辑\n",
    "\n",
    "    检索\n",
    "\n",
    "        search params 拼接\n",
    "\n",
    "        requests.get 的 params 参数"
   ]
  },
  {
   "cell_type": "code",
   "execution_count": null,
   "id": "c7d6fe1b-323b-4056-9474-1c925152e8e1",
   "metadata": {},
   "outputs": [],
   "source": []
  },
  {
   "cell_type": "markdown",
   "id": "1bdb4cfc-2ed9-481b-9ebc-2ec8764f16e2",
   "metadata": {},
   "source": [
    "##### 换页"
   ]
  },
  {
   "cell_type": "code",
   "execution_count": null,
   "id": "27469373-dd64-43c6-82d5-92e4bfc8b0f7",
   "metadata": {},
   "outputs": [],
   "source": []
  },
  {
   "cell_type": "markdown",
   "id": "cd2bcf21-7269-4cfb-9767-54cd5c60b668",
   "metadata": {},
   "source": [
    "##### 获取身份：Cookie\n",
    "\n",
    "Cookie是由服务器发送到用户浏览器并存储在用户计算机上的小型文本文件。它用于在Web应用程序中跟踪和存储有关用户的信息。\n",
    "\n",
    "当用户访问一个网站时，服务器可以通过HTTP响应头中的`Set-Cookie`标头将Cookie发送给用户的浏览器。浏览器接收到Cookie后，会将其存储在用户的计算机上。每当用户再次访问同一网站时，浏览器会通过HTTP请求头中的`Cookie`标头将存储的Cookie信息发送回服务器。\n",
    "\n",
    "Cookie通常用于以下目的：\n",
    "\n",
    "- 身份认证和会话管理：通过将唯一的会话标识符存储在Cookie中，服务器可以跟踪用户的认证状态。服务器可以通过 Cookie 获知用户的登录状态。\n",
    "- 用户偏好设置：Cookie可以用于保存用户的偏好设置，如语言偏好、主题选择等。\n",
    "- 跟踪和分析：通过在Cookie中存储跟踪代码或标识符，网站可以分析用户的行为，如页面浏览量、点击量等。\n",
    "- 广告定向：广告商可以使用Cookie来跟踪用户的兴趣和行为，以便提供个性化的广告体验。\n",
    "\n",
    "注意：Cookie是存储在用户计算机上的文本文件，因此可以被用户主动删除"
   ]
  },
  {
   "cell_type": "code",
   "execution_count": null,
   "id": "7a6e458e-3ca8-4ad3-95de-e0bbbd5878ff",
   "metadata": {},
   "outputs": [],
   "source": []
  },
  {
   "cell_type": "markdown",
   "id": "be42ffd6-e9ce-405f-ad91-2bb2ef73acf6",
   "metadata": {},
   "source": [
    "#### 爬取结果的保存和读取\n",
    "\n",
    "    保存到 XML - 使用 xmltodict（需要安装）\n",
    "\n",
    "        读取\n",
    "\n",
    "    保存到 JSON - json.dumps\n",
    "\n",
    "        读取 - json.loads\n",
    "\n",
    "    保存到 pickle - pickle.dumps\n",
    "\n",
    "        读取 - pickle.loads\n",
    "\n",
    "        pickle 可以保存任意变量"
   ]
  },
  {
   "cell_type": "code",
   "execution_count": 23,
   "id": "e38b1aa6-8273-43d2-bad0-b0e21f198544",
   "metadata": {},
   "outputs": [
    {
     "name": "stdout",
     "output_type": "stream",
     "text": [
      "Collecting xmltodict\n",
      "  Downloading xmltodict-0.13.0-py2.py3-none-any.whl (10.0 kB)\n",
      "Installing collected packages: xmltodict\n",
      "Successfully installed xmltodict-0.13.0\n",
      "\n",
      "\u001b[1m[\u001b[0m\u001b[34;49mnotice\u001b[0m\u001b[1;39;49m]\u001b[0m\u001b[39;49m A new release of pip available: \u001b[0m\u001b[31;49m22.3.1\u001b[0m\u001b[39;49m -> \u001b[0m\u001b[32;49m23.2.1\u001b[0m\n",
      "\u001b[1m[\u001b[0m\u001b[34;49mnotice\u001b[0m\u001b[1;39;49m]\u001b[0m\u001b[39;49m To update, run: \u001b[0m\u001b[32;49mpip install --upgrade pip\u001b[0m\n"
     ]
    }
   ],
   "source": [
    "!pip install xmltodict"
   ]
  },
  {
   "cell_type": "markdown",
   "id": "2d42cf58-967e-441a-9e46-f33bcaef692b",
   "metadata": {},
   "source": [
    "从 dict 到 xml 字符串："
   ]
  },
  {
   "cell_type": "code",
   "execution_count": 24,
   "id": "c3fb197b-e99b-4340-82d1-dbf8f2effe49",
   "metadata": {},
   "outputs": [
    {
     "name": "stdout",
     "output_type": "stream",
     "text": [
      "<?xml version=\"1.0\" encoding=\"utf-8\"?>\n",
      "<a>1</a>\n"
     ]
    }
   ],
   "source": [
    "import xmltodict\n",
    "print(xmltodict.unparse({ 'a': 1 }))"
   ]
  },
  {
   "cell_type": "markdown",
   "id": "7314cb9b-b51b-4152-888d-f3684babebc6",
   "metadata": {},
   "source": [
    "从 xml 到 dict："
   ]
  },
  {
   "cell_type": "code",
   "execution_count": 25,
   "id": "af326545-68b3-44c0-a478-ef331f86e300",
   "metadata": {},
   "outputs": [
    {
     "name": "stdout",
     "output_type": "stream",
     "text": [
      "{'a': '1'}\n"
     ]
    }
   ],
   "source": [
    "import xmltodict\n",
    "print(xmltodict.parse('<?xml version=\"1.0\" encoding=\"utf-8\"?><a>1</a>'))"
   ]
  },
  {
   "cell_type": "code",
   "execution_count": null,
   "id": "af42798d-bb80-4669-8be1-c1496972fbbc",
   "metadata": {},
   "outputs": [],
   "source": []
  }
 ],
 "metadata": {
  "kernelspec": {
   "display_name": "Python 3 (ipykernel)",
   "language": "python",
   "name": "python3"
  },
  "language_info": {
   "codemirror_mode": {
    "name": "ipython",
    "version": 3
   },
   "file_extension": ".py",
   "mimetype": "text/x-python",
   "name": "python",
   "nbconvert_exporter": "python",
   "pygments_lexer": "ipython3",
   "version": "3.11.4"
  }
 },
 "nbformat": 4,
 "nbformat_minor": 5
}
