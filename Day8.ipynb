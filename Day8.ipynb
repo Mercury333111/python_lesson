{
 "cells": [
  {
   "cell_type": "markdown",
   "id": "bb952941-9d4c-4a29-b927-fc7c7d2f014d",
   "metadata": {},
   "source": [
    "```\n",
    "Day 8 / 实操课：爬取豆瓣 TOP250\n",
    "    爬取\n",
    "        拼接 url\n",
    "            自动换页\n",
    "        获取剩余页数\n",
    "        控制访问频率\n",
    "    提取\n",
    "        编写 selector\n",
    "        片名\n",
    "        导演、主演、分类\n",
    "        评分、评分人数\n",
    "        精选影评\n",
    "        封面\n",
    "        详情页链接\n",
    "    处理\n",
    "        使用 Pillow 把图片缩放为指定高度\n",
    "    进阶\n",
    "        爬取详情页获得更多基本信息\n",
    "        爬取详情页获得更多影评\n",
    "    保存\n",
    "        使用 openpyxl 写入 excel 表格\n",
    "```"
   ]
  },
  {
   "cell_type": "code",
   "execution_count": 5,
   "id": "612eaffd-9d63-49b6-b2a3-27f6256802e5",
   "metadata": {},
   "outputs": [
    {
     "name": "stdout",
     "output_type": "stream",
     "text": [
      "Requirement already satisfied: pillow in /Users/xiejiss/.pyenv/versions/3.10.10/lib/python3.10/site-packages (9.5.0)\n",
      "\n",
      "\u001b[1m[\u001b[0m\u001b[34;49mnotice\u001b[0m\u001b[1;39;49m]\u001b[0m\u001b[39;49m A new release of pip available: \u001b[0m\u001b[31;49m22.3.1\u001b[0m\u001b[39;49m -> \u001b[0m\u001b[32;49m23.2.1\u001b[0m\n",
      "\u001b[1m[\u001b[0m\u001b[34;49mnotice\u001b[0m\u001b[1;39;49m]\u001b[0m\u001b[39;49m To update, run: \u001b[0m\u001b[32;49mpip install --upgrade pip\u001b[0m\n"
     ]
    }
   ],
   "source": [
    "!pip install pillow"
   ]
  },
  {
   "cell_type": "code",
   "execution_count": 4,
   "id": "18be83c9-68ae-4235-8270-26edb6c69608",
   "metadata": {},
   "outputs": [],
   "source": [
    "# 爬取、提取\n",
    "import requests, bs4, time, json\n",
    "\n",
    "headers = { 'User-Agent': '' }\n",
    "\n",
    "def get_html_of_page(page_num):\n",
    "    pass\n",
    "\n",
    "def get_html_of_url(url):\n",
    "    # time.sleep()\n",
    "    pass\n",
    "\n",
    "def resize_image_to_height(img_path, height):\n",
    "    pass\n",
    "\n",
    "# 打印\n",
    "\n",
    "\n",
    "# 储存\n"
   ]
  },
  {
   "cell_type": "code",
   "execution_count": null,
   "id": "f1b527bb-c9ba-4389-923b-f129a922cccb",
   "metadata": {},
   "outputs": [],
   "source": [
    "# 加载\n",
    "import openpyxl\n",
    "\n",
    "# 写入 Excel\n",
    "\n",
    "def insert_image_to_sheet(image_path, row, col):\n",
    "    pass\n",
    "\n",
    "# 保存 Excel\n"
   ]
  }
 ],
 "metadata": {
  "kernelspec": {
   "display_name": "Python 3 (ipykernel)",
   "language": "python",
   "name": "python3"
  },
  "language_info": {
   "codemirror_mode": {
    "name": "ipython",
    "version": 3
   },
   "file_extension": ".py",
   "mimetype": "text/x-python",
   "name": "python",
   "nbconvert_exporter": "python",
   "pygments_lexer": "ipython3",
   "version": "3.10.10"
  }
 },
 "nbformat": 4,
 "nbformat_minor": 5
}
